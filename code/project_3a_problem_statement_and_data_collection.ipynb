{
 "cells": [
  {
   "cell_type": "markdown",
   "metadata": {},
   "source": [
    "# Project 3A: Depression and Loneliness Text Analysis"
   ]
  },
  {
   "cell_type": "markdown",
   "metadata": {},
   "source": [
    "## Problem Statement"
   ]
  },
  {
   "cell_type": "markdown",
   "metadata": {},
   "source": [
    "With the increasing comparison behaviour due to the constant flow of information from the internet and social media, coupled with the lack of physical social interactions, there is an increasing trend in both depression and loneliness among younger millennials [[1]](https://www.healthline.com/health-news/millennial-depression-on-the-rise#Is-social-media-to-blame?). As a data scientist working in a mental healthcare institutition, we are interested to first explore the top 10 differences in word expression between depression and loneliness behavioural through the social media forum. We will be using 4 types of models namely the null model, multinomial naive bayes, k-nearest neighbours and logistic regression to predict the identification of depression and loneliness of the social media forum. Of these models, we will select the model that are able to provide the highest accuracy with more than 80% that takes into the account of the similarity between depression and loneliness. This will allows us to gain an insight to understand the early behavioural symptoms through their words usage and instill this as part of the assessment and identification when communicating with person in need and provide better assistance through other communication means including the chatbox and the helpline with the model built with more than 80% accuracy."
   ]
  },
  {
   "cell_type": "markdown",
   "metadata": {},
   "source": [
    "### Overall Contents:\n",
    "- [Background](#1.-Background) **(In this notebook)**\n",
    "- [Data Collection](#2.-Data-Collection) **(In this notebook)**\n",
    "- Data Cleaning\n",
    "- Exploratory Data Analysis\n",
    "- Preprocessing\n",
    "- Modeling\n",
    "- Evaluation\n",
    "- Conclusions and Recommendations"
   ]
  },
  {
   "cell_type": "markdown",
   "metadata": {},
   "source": [
    "## 1. Background"
   ]
  },
  {
   "cell_type": "markdown",
   "metadata": {},
   "source": [
    "Depression and loneliness are terms that are often associated together due to the common belief that loneliness is a subset of depression and they have high similarity such as the symptoms of being in pain and helplessness [[2]](https://www.ncbi.nlm.nih.gov/pmc/articles/PMC4225959/). \n",
    "However, the main distinction between depression and loneliness is loneliness is a transient emotional state that corresponds to a person needs for belonging and connection while depression is a mental health condition that can significantly affect a person's ability to function normally with its persistent negative feelings of emptiness, worthlessness, hopelessness and sadness [[3]](https://www.healthline.com/health/loneliness-and-depression) [[4]](https://www.mentalhelp.net/depression/hotline/). Loneliness condition can be improved should those needs be met, while depression on the other hand, requires treatment and can lead to suicidal on severe cases [[5]](https://salienceneuro.com/long-term-effects-of-depression-2/). Nevertheless, a person experiencing loneliness should not be left unattended as it is an indicator of social well-being and prolonged loneliness can also lead to other mental health conditions including depression [[3]](https://www.healthline.com/health/loneliness-and-depression). Hence, it is important to distinguish the differences of loneliness and depression to allow for early detection and offer the appropriate treatment to combat this before it prolonged to undesire consequences. \n",
    "\n",
    "Globally, depression is ranked as the single largest contributor to global disability by World Health Organization (WHO) whereby, it is estimated to exceed 300 million people (4.4% of the world's population) having depression in 2015 and it is a major contributor to suicide deaths (up to 800 thosands per year) [[6]](https://www.who.int/publications/i/item/depression-global-health-estimates). The high prevalence rate of depression and suicidal is due to barrier to effective care including stigma surrounding mental disorders, lack of awareness and inaccurate assessment  [[7]](https://www.who.int/news-room/fact-sheets/detail/depression). With the increase usage of internet and social media, there is an increasing trend in both depression and loneliness among younger millenials in which the usage of these platforms encourage unintentional comparison behaviour with their peers and instill a sense of disconnect from real-life social interaction[[8]](https://pdxscholar.library.pdx.edu/cgi/viewcontent.cgi?article=6646&context=open_access_etds). This leave them feeling insecure and unaccomplished, thus resulting in lower self-esteem, anxiety and depression. Thus, it is important to create awareness and reachout to them by being available and accessible for support or assistance should they experience depression or loneliness, which is a factor leading to depression. \n",
    "\n",
    "Hence, as a data scientist working in a mental healthcare institutition, I will be handling on this project and our goals are the following:\n",
    "1. To identify the top 10 differences between depression and loneliness behavioural through the word expression in social media forum\n",
    "\n",
    "2. To build models such as null model, multinomial naive bayes, k-nearest neighbours and logistic regression to predict the identification of depression and loneliness behavioural with using the social media forum as a platform to measure the accuracy of the model prediction in this identification.\n",
    "\n",
    "3. To select a model among the models built with the highest accuracy and having more than 80% accuracy to predict the identification of depression and loneliness behavioural in the social media forum, with taking an account of the similarity of depression and loneliness. A recent study suggests that 18% of the loneliness is responsible for depression in older adults. [[9]](https://www.sciencedaily.com/releases/2020/11/201109184947.htm). As the quantitative measurement of loneliness responsible for depression in young adults are not commonly studied, we will use 20% as a benchmark with reference to the study.\n",
    "\n",
    "By knowing top 10 words that differences that distinguish the depression and loneliness behaviourial, the mental institution will be able to use this insight to instill these words as part of their assessment or identification and offer help when communicating with person in need. In addition, the model built with more than 80% accuracy will enable to provide a better assistance through other communication means including chatbox and the helpline."
   ]
  },
  {
   "cell_type": "markdown",
   "metadata": {},
   "source": [
    "### 1.1 Datasets\n",
    "\n",
    "The dataset contains the posts that were published under the social news website, [reddit](https://www.reddit.com) between September 2020 to March 2021. \n",
    "\n",
    "The dataset that are to be collected are as followed:-\n",
    "\n",
    "* depression_data (5000 posts)\n",
    "* lonely_data (5000 posts)\n",
    "\n",
    "The data source below are obtained from database [reddit](https://www.reddit.com):\n",
    "* [depression](https://www.reddit.com/search/?q=depression) \n",
    "* [foreveralone](https://www.reddit.com/search?q=foreveralone&type=link)"
   ]
  },
  {
   "cell_type": "markdown",
   "metadata": {},
   "source": [
    "## 2. Data Collection"
   ]
  },
  {
   "cell_type": "markdown",
   "metadata": {},
   "source": [
    "### 2.1 Libraries Import"
   ]
  },
  {
   "cell_type": "code",
   "execution_count": 1,
   "metadata": {},
   "outputs": [],
   "source": [
    "# Imports:\n",
    "import requests\n",
    "import time\n",
    "import pandas as pd\n",
    "import numpy as np"
   ]
  },
  {
   "cell_type": "markdown",
   "metadata": {},
   "source": [
    "### 2.2 Data Collection"
   ]
  },
  {
   "cell_type": "markdown",
   "metadata": {},
   "source": [
    "**Overview**\n",
    "\n",
    "We will be collecting about 5000 posts from the forum of depression and lonely in reddit website prior to 1st April 2021 (using 1st April 2021 as the starting time). The criteria set for each collection is that there must be contents in the description of the posts labeled as \"selftext\" and there are no videos. For each forum, we will collect 1000 posts from the website using api.pushshift.io (https://api.pushshift.io/reddit/) for each collection and the remaining posts to top up to 5000 posts. After the collection, we will compile the posts into their respective dataframe.\n",
    "\n",
    "Note: \n",
    "1. All codes will be placed under comment to prevent re-collection of data from reddit\n",
    "2. In this project, foreveralone and loneliness or lonely are used interchangeable."
   ]
  },
  {
   "cell_type": "markdown",
   "metadata": {},
   "source": [
    "### 2.2.1 Define function for data collection from reddit"
   ]
  },
  {
   "cell_type": "code",
   "execution_count": 2,
   "metadata": {},
   "outputs": [],
   "source": [
    "# Define the function for data collection from reddit\n",
    "def collection_add_reddit(number_posts, url, subreddit, size, before):\n",
    "    \"\"\"To collect the posts from subreddit in reddit by specifying the created_utc to collect \n",
    "    the posts before this time and the size is the numbers of posts per pull\n",
    "    The output is a dataframe containing the posts\"\"\"\n",
    "    url = url \n",
    "    dataframe = pd.DataFrame()\n",
    "    count = 0\n",
    "    \n",
    "    while len(dataframe) < number_posts: # run the code below till it reaches more than the number of post requested\n",
    "        if len(dataframe) == 0: # for the first data collection\n",
    "            subreddit = subreddit # the forum to collect\n",
    "            size = size # number of posts of collection\n",
    "            before = before # to collect the posts prior to stated time (utc time format)\n",
    "            params = {\"subreddit\" : subreddit,'size' : size, \"before\": before}\n",
    "            res = requests.get(url,params)\n",
    "            print(f\"for request {count}, status code is {res.status_code}\")\n",
    "            data = res.json()\n",
    "            #removal of selftext having no contents and where there is video\n",
    "            new_data = pd.DataFrame(data['data'])\n",
    "            new_data = new_data[new_data[\"selftext\"]!='[removed]']\n",
    "            new_data = new_data[new_data[\"selftext\"]!='[deleted]']\n",
    "            new_data = new_data[new_data[\"selftext\"]!= \"\"]\n",
    "            new_data = new_data[new_data[\"is_video\"]!= True]\n",
    "            new_data = new_data.reset_index(drop = True)\n",
    "            dataframe = pd.concat([dataframe, new_data]) #combine the new dataframe with existing dataframe\n",
    "            dataframe = dataframe.reset_index(drop = True)\n",
    "            time.sleep(np.random.randint(10,30)) #Time interval before next collection\n",
    "            print(f\"for request {count}, total rows are {dataframe.shape[0]}\")\n",
    "            count += 1\n",
    "        else: # subsequent data collection\n",
    "            subreddit = subreddit # the forum to collect\n",
    "            size = size # number of posts of collection\n",
    "            number = len(dataframe) - 1 # to call out the last row\n",
    "            utc_before = dataframe.created_utc[number] # to collect the posts prior to the earliest created time of the dataframe\n",
    "            params = {\"subreddit\" : subreddit,'size' : size,\"before\": utc_before}\n",
    "            res = requests.get(url,params)\n",
    "            print(f\"for request {count}, status code is {res.status_code}\")\n",
    "            data = res.json()\n",
    "            #removal of selftext having no contents and where there is video\n",
    "            new_data = pd.DataFrame(data['data'])\n",
    "            new_data = new_data[new_data[\"selftext\"]!='[removed]']\n",
    "            new_data = new_data[new_data[\"selftext\"]!='[deleted]']\n",
    "            new_data = new_data[new_data[\"selftext\"]!= \"\"]\n",
    "            new_data = new_data[new_data[\"is_video\"]!= True]\n",
    "            new_data = new_data.reset_index(drop = True)\n",
    "            dataframe = pd.concat([dataframe, new_data]) #combine the new dataframe with existing dataframe\n",
    "            dataframe = dataframe.reset_index(drop = True)\n",
    "            time.sleep(np.random.randint(10,30)) #Time interval before next collection\n",
    "            print(f\"for request {count}, total rows are {dataframe.shape[0]}\")\n",
    "            count += 1\n",
    "    return dataframe"
   ]
  },
  {
   "cell_type": "markdown",
   "metadata": {},
   "source": [
    "### 2.2.2 Collection from reddit: First 1000 post"
   ]
  },
  {
   "cell_type": "markdown",
   "metadata": {},
   "source": [
    "**Depression**"
   ]
  },
  {
   "cell_type": "code",
   "execution_count": 3,
   "metadata": {
    "scrolled": true
   },
   "outputs": [
    {
     "name": "stdout",
     "output_type": "stream",
     "text": [
      "for request 0, status code is 200\n",
      "for request 0, total rows are 80\n",
      "for request 1, status code is 200\n",
      "for request 1, total rows are 158\n",
      "for request 2, status code is 200\n",
      "for request 2, total rows are 245\n",
      "for request 3, status code is 200\n",
      "for request 3, total rows are 331\n",
      "for request 4, status code is 200\n",
      "for request 4, total rows are 411\n",
      "for request 5, status code is 200\n",
      "for request 5, total rows are 500\n",
      "for request 6, status code is 200\n",
      "for request 6, total rows are 582\n",
      "for request 7, status code is 200\n",
      "for request 7, total rows are 672\n",
      "for request 8, status code is 200\n",
      "for request 8, total rows are 758\n",
      "for request 9, status code is 200\n",
      "for request 9, total rows are 839\n",
      "for request 10, status code is 200\n",
      "for request 10, total rows are 920\n",
      "for request 11, status code is 200\n",
      "for request 11, total rows are 995\n",
      "for request 12, status code is 200\n",
      "for request 12, total rows are 1079\n"
     ]
    }
   ],
   "source": [
    "#depression_d1 = collection_add_reddit(1000,'https://api.pushshift.io/reddit/search/submission', 'depression', 100, 1617206400)"
   ]
  },
  {
   "cell_type": "code",
   "execution_count": 4,
   "metadata": {
    "scrolled": true
   },
   "outputs": [
    {
     "data": {
      "text/html": [
       "<div>\n",
       "<style scoped>\n",
       "    .dataframe tbody tr th:only-of-type {\n",
       "        vertical-align: middle;\n",
       "    }\n",
       "\n",
       "    .dataframe tbody tr th {\n",
       "        vertical-align: top;\n",
       "    }\n",
       "\n",
       "    .dataframe thead th {\n",
       "        text-align: right;\n",
       "    }\n",
       "</style>\n",
       "<table border=\"1\" class=\"dataframe\">\n",
       "  <thead>\n",
       "    <tr style=\"text-align: right;\">\n",
       "      <th></th>\n",
       "      <th>all_awardings</th>\n",
       "      <th>allow_live_comments</th>\n",
       "      <th>author</th>\n",
       "      <th>author_flair_css_class</th>\n",
       "      <th>author_flair_richtext</th>\n",
       "      <th>author_flair_text</th>\n",
       "      <th>author_flair_type</th>\n",
       "      <th>author_fullname</th>\n",
       "      <th>author_patreon_flair</th>\n",
       "      <th>author_premium</th>\n",
       "      <th>...</th>\n",
       "      <th>url</th>\n",
       "      <th>whitelist_status</th>\n",
       "      <th>wls</th>\n",
       "      <th>post_hint</th>\n",
       "      <th>preview</th>\n",
       "      <th>removed_by_category</th>\n",
       "      <th>author_cakeday</th>\n",
       "      <th>author_flair_background_color</th>\n",
       "      <th>author_flair_text_color</th>\n",
       "      <th>banned_by</th>\n",
       "    </tr>\n",
       "  </thead>\n",
       "  <tbody>\n",
       "    <tr>\n",
       "      <th>0</th>\n",
       "      <td>[]</td>\n",
       "      <td>False</td>\n",
       "      <td>hatetheseparties521</td>\n",
       "      <td>None</td>\n",
       "      <td>[]</td>\n",
       "      <td>None</td>\n",
       "      <td>text</td>\n",
       "      <td>t2_5h53y7nh</td>\n",
       "      <td>False</td>\n",
       "      <td>False</td>\n",
       "      <td>...</td>\n",
       "      <td>https://www.reddit.com/r/depression/comments/m...</td>\n",
       "      <td>no_ads</td>\n",
       "      <td>0.0</td>\n",
       "      <td>NaN</td>\n",
       "      <td>NaN</td>\n",
       "      <td>NaN</td>\n",
       "      <td>NaN</td>\n",
       "      <td>NaN</td>\n",
       "      <td>NaN</td>\n",
       "      <td>NaN</td>\n",
       "    </tr>\n",
       "    <tr>\n",
       "      <th>1</th>\n",
       "      <td>[]</td>\n",
       "      <td>False</td>\n",
       "      <td>jaksiejsndnd</td>\n",
       "      <td>None</td>\n",
       "      <td>[]</td>\n",
       "      <td>None</td>\n",
       "      <td>text</td>\n",
       "      <td>t2_b8zl7s08</td>\n",
       "      <td>False</td>\n",
       "      <td>False</td>\n",
       "      <td>...</td>\n",
       "      <td>https://www.reddit.com/r/depression/comments/m...</td>\n",
       "      <td>no_ads</td>\n",
       "      <td>0.0</td>\n",
       "      <td>NaN</td>\n",
       "      <td>NaN</td>\n",
       "      <td>NaN</td>\n",
       "      <td>NaN</td>\n",
       "      <td>NaN</td>\n",
       "      <td>NaN</td>\n",
       "      <td>NaN</td>\n",
       "    </tr>\n",
       "    <tr>\n",
       "      <th>2</th>\n",
       "      <td>[]</td>\n",
       "      <td>False</td>\n",
       "      <td>PIRY_TV</td>\n",
       "      <td>None</td>\n",
       "      <td>[]</td>\n",
       "      <td>None</td>\n",
       "      <td>text</td>\n",
       "      <td>t2_t5i70</td>\n",
       "      <td>False</td>\n",
       "      <td>False</td>\n",
       "      <td>...</td>\n",
       "      <td>https://www.reddit.com/r/depression/comments/m...</td>\n",
       "      <td>no_ads</td>\n",
       "      <td>0.0</td>\n",
       "      <td>NaN</td>\n",
       "      <td>NaN</td>\n",
       "      <td>NaN</td>\n",
       "      <td>NaN</td>\n",
       "      <td>NaN</td>\n",
       "      <td>NaN</td>\n",
       "      <td>NaN</td>\n",
       "    </tr>\n",
       "    <tr>\n",
       "      <th>3</th>\n",
       "      <td>[]</td>\n",
       "      <td>False</td>\n",
       "      <td>inkv0ids</td>\n",
       "      <td>None</td>\n",
       "      <td>[]</td>\n",
       "      <td>None</td>\n",
       "      <td>text</td>\n",
       "      <td>t2_9hpwrqhh</td>\n",
       "      <td>False</td>\n",
       "      <td>False</td>\n",
       "      <td>...</td>\n",
       "      <td>https://www.reddit.com/r/depression/comments/m...</td>\n",
       "      <td>no_ads</td>\n",
       "      <td>0.0</td>\n",
       "      <td>NaN</td>\n",
       "      <td>NaN</td>\n",
       "      <td>NaN</td>\n",
       "      <td>NaN</td>\n",
       "      <td>NaN</td>\n",
       "      <td>NaN</td>\n",
       "      <td>NaN</td>\n",
       "    </tr>\n",
       "    <tr>\n",
       "      <th>4</th>\n",
       "      <td>[]</td>\n",
       "      <td>False</td>\n",
       "      <td>kamakirimen</td>\n",
       "      <td>None</td>\n",
       "      <td>[]</td>\n",
       "      <td>None</td>\n",
       "      <td>text</td>\n",
       "      <td>t2_5xctywkc</td>\n",
       "      <td>False</td>\n",
       "      <td>False</td>\n",
       "      <td>...</td>\n",
       "      <td>https://www.reddit.com/r/depression/comments/m...</td>\n",
       "      <td>no_ads</td>\n",
       "      <td>0.0</td>\n",
       "      <td>NaN</td>\n",
       "      <td>NaN</td>\n",
       "      <td>NaN</td>\n",
       "      <td>NaN</td>\n",
       "      <td>NaN</td>\n",
       "      <td>NaN</td>\n",
       "      <td>NaN</td>\n",
       "    </tr>\n",
       "  </tbody>\n",
       "</table>\n",
       "<p>5 rows × 65 columns</p>\n",
       "</div>"
      ],
      "text/plain": [
       "  all_awardings  allow_live_comments               author  \\\n",
       "0            []                False  hatetheseparties521   \n",
       "1            []                False         jaksiejsndnd   \n",
       "2            []                False              PIRY_TV   \n",
       "3            []                False             inkv0ids   \n",
       "4            []                False          kamakirimen   \n",
       "\n",
       "  author_flair_css_class author_flair_richtext author_flair_text  \\\n",
       "0                   None                    []              None   \n",
       "1                   None                    []              None   \n",
       "2                   None                    []              None   \n",
       "3                   None                    []              None   \n",
       "4                   None                    []              None   \n",
       "\n",
       "  author_flair_type author_fullname author_patreon_flair author_premium  ...  \\\n",
       "0              text     t2_5h53y7nh                False          False  ...   \n",
       "1              text     t2_b8zl7s08                False          False  ...   \n",
       "2              text        t2_t5i70                False          False  ...   \n",
       "3              text     t2_9hpwrqhh                False          False  ...   \n",
       "4              text     t2_5xctywkc                False          False  ...   \n",
       "\n",
       "                                                 url  whitelist_status  wls  \\\n",
       "0  https://www.reddit.com/r/depression/comments/m...            no_ads  0.0   \n",
       "1  https://www.reddit.com/r/depression/comments/m...            no_ads  0.0   \n",
       "2  https://www.reddit.com/r/depression/comments/m...            no_ads  0.0   \n",
       "3  https://www.reddit.com/r/depression/comments/m...            no_ads  0.0   \n",
       "4  https://www.reddit.com/r/depression/comments/m...            no_ads  0.0   \n",
       "\n",
       "   post_hint preview removed_by_category author_cakeday  \\\n",
       "0        NaN     NaN                 NaN            NaN   \n",
       "1        NaN     NaN                 NaN            NaN   \n",
       "2        NaN     NaN                 NaN            NaN   \n",
       "3        NaN     NaN                 NaN            NaN   \n",
       "4        NaN     NaN                 NaN            NaN   \n",
       "\n",
       "  author_flair_background_color  author_flair_text_color  banned_by  \n",
       "0                           NaN                      NaN        NaN  \n",
       "1                           NaN                      NaN        NaN  \n",
       "2                           NaN                      NaN        NaN  \n",
       "3                           NaN                      NaN        NaN  \n",
       "4                           NaN                      NaN        NaN  \n",
       "\n",
       "[5 rows x 65 columns]"
      ]
     },
     "execution_count": 4,
     "metadata": {},
     "output_type": "execute_result"
    }
   ],
   "source": [
    "# To check the data collected from depression forum\n",
    "#depression_d1.head()"
   ]
  },
  {
   "cell_type": "code",
   "execution_count": 5,
   "metadata": {},
   "outputs": [
    {
     "data": {
      "text/plain": [
       "Index(['all_awardings', 'allow_live_comments', 'author',\n",
       "       'author_flair_css_class', 'author_flair_richtext', 'author_flair_text',\n",
       "       'author_flair_type', 'author_fullname', 'author_patreon_flair',\n",
       "       'author_premium', 'awarders', 'can_mod_post', 'contest_mode',\n",
       "       'created_utc', 'domain', 'full_link', 'gildings', 'id',\n",
       "       'is_crosspostable', 'is_meta', 'is_original_content',\n",
       "       'is_reddit_media_domain', 'is_robot_indexable', 'is_self', 'is_video',\n",
       "       'link_flair_background_color', 'link_flair_richtext',\n",
       "       'link_flair_text_color', 'link_flair_type', 'locked', 'media_only',\n",
       "       'no_follow', 'num_comments', 'num_crossposts', 'over_18',\n",
       "       'parent_whitelist_status', 'permalink', 'pinned', 'pwls',\n",
       "       'retrieved_on', 'score', 'selftext', 'send_replies', 'spoiler',\n",
       "       'stickied', 'subreddit', 'subreddit_id', 'subreddit_subscribers',\n",
       "       'subreddit_type', 'suggested_sort', 'thumbnail', 'title',\n",
       "       'total_awards_received', 'treatment_tags', 'upvote_ratio', 'url',\n",
       "       'whitelist_status', 'wls', 'post_hint', 'preview',\n",
       "       'removed_by_category', 'author_cakeday',\n",
       "       'author_flair_background_color', 'author_flair_text_color',\n",
       "       'banned_by'],\n",
       "      dtype='object')"
      ]
     },
     "execution_count": 5,
     "metadata": {},
     "output_type": "execute_result"
    }
   ],
   "source": [
    "# To check the columns in the dataframe\n",
    "#depression_d1.keys()"
   ]
  },
  {
   "cell_type": "code",
   "execution_count": 6,
   "metadata": {},
   "outputs": [
    {
     "data": {
      "text/plain": [
       "1617000573"
      ]
     },
     "execution_count": 6,
     "metadata": {},
     "output_type": "execute_result"
    }
   ],
   "source": [
    "# To check the utc time the post is created for the last post\n",
    "#depression_d1.created_utc[1074]"
   ]
  },
  {
   "cell_type": "markdown",
   "metadata": {},
   "source": [
    "**Lonely**"
   ]
  },
  {
   "cell_type": "code",
   "execution_count": 8,
   "metadata": {},
   "outputs": [
    {
     "name": "stdout",
     "output_type": "stream",
     "text": [
      "for request 0, status code is 200\n",
      "for request 0, total rows are 45\n",
      "for request 1, status code is 200\n",
      "for request 1, total rows are 97\n",
      "for request 2, status code is 200\n",
      "for request 2, total rows are 149\n",
      "for request 3, status code is 200\n",
      "for request 3, total rows are 209\n",
      "for request 4, status code is 200\n",
      "for request 4, total rows are 262\n",
      "for request 5, status code is 200\n",
      "for request 5, total rows are 318\n",
      "for request 6, status code is 200\n",
      "for request 6, total rows are 363\n",
      "for request 7, status code is 200\n",
      "for request 7, total rows are 409\n",
      "for request 8, status code is 200\n",
      "for request 8, total rows are 460\n",
      "for request 9, status code is 200\n",
      "for request 9, total rows are 510\n",
      "for request 10, status code is 200\n",
      "for request 10, total rows are 557\n",
      "for request 11, status code is 200\n",
      "for request 11, total rows are 608\n",
      "for request 12, status code is 200\n",
      "for request 12, total rows are 671\n",
      "for request 13, status code is 200\n",
      "for request 13, total rows are 727\n",
      "for request 14, status code is 200\n",
      "for request 14, total rows are 781\n",
      "for request 15, status code is 200\n",
      "for request 15, total rows are 830\n",
      "for request 16, status code is 200\n",
      "for request 16, total rows are 885\n",
      "for request 17, status code is 200\n",
      "for request 17, total rows are 936\n",
      "for request 18, status code is 200\n",
      "for request 18, total rows are 991\n",
      "for request 19, status code is 200\n",
      "for request 19, total rows are 1043\n"
     ]
    }
   ],
   "source": [
    "#lonely_d1 = collection_add_reddit(1000,'https://api.pushshift.io/reddit/search/submission', 'foreveralone', 100, 1617206400)"
   ]
  },
  {
   "cell_type": "markdown",
   "metadata": {},
   "source": [
    "### 2.2.3 Collection from reddit: Second 1000 post"
   ]
  },
  {
   "cell_type": "markdown",
   "metadata": {},
   "source": [
    "**Depression**"
   ]
  },
  {
   "cell_type": "code",
   "execution_count": 9,
   "metadata": {
    "scrolled": true
   },
   "outputs": [
    {
     "name": "stdout",
     "output_type": "stream",
     "text": [
      "for request 0, status code is 200\n",
      "for request 0, total rows are 84\n",
      "for request 1, status code is 200\n",
      "for request 1, total rows are 169\n",
      "for request 2, status code is 200\n",
      "for request 2, total rows are 247\n",
      "for request 3, status code is 200\n",
      "for request 3, total rows are 327\n",
      "for request 4, status code is 200\n",
      "for request 4, total rows are 408\n",
      "for request 5, status code is 200\n",
      "for request 5, total rows are 493\n",
      "for request 6, status code is 200\n",
      "for request 6, total rows are 573\n",
      "for request 7, status code is 200\n",
      "for request 7, total rows are 653\n",
      "for request 8, status code is 200\n",
      "for request 8, total rows are 732\n",
      "for request 9, status code is 200\n",
      "for request 9, total rows are 817\n",
      "for request 10, status code is 200\n",
      "for request 10, total rows are 902\n",
      "for request 11, status code is 200\n",
      "for request 11, total rows are 980\n",
      "for request 12, status code is 200\n",
      "for request 12, total rows are 1064\n"
     ]
    }
   ],
   "source": [
    "#depression_d2 = collection_add_reddit(1000,'https://api.pushshift.io/reddit/search/submission', 'depression', 100, depression_d1.created_utc[(len(depression_d1) - 1)])"
   ]
  },
  {
   "cell_type": "markdown",
   "metadata": {},
   "source": [
    "**Lonely**"
   ]
  },
  {
   "cell_type": "code",
   "execution_count": 10,
   "metadata": {},
   "outputs": [
    {
     "name": "stdout",
     "output_type": "stream",
     "text": [
      "for request 0, status code is 200\n",
      "for request 0, total rows are 48\n",
      "for request 1, status code is 200\n",
      "for request 1, total rows are 106\n",
      "for request 2, status code is 200\n",
      "for request 2, total rows are 169\n",
      "for request 3, status code is 200\n",
      "for request 3, total rows are 223\n",
      "for request 4, status code is 200\n",
      "for request 4, total rows are 293\n",
      "for request 5, status code is 200\n",
      "for request 5, total rows are 340\n",
      "for request 6, status code is 200\n",
      "for request 6, total rows are 390\n",
      "for request 7, status code is 200\n",
      "for request 7, total rows are 441\n",
      "for request 8, status code is 200\n",
      "for request 8, total rows are 505\n",
      "for request 9, status code is 200\n",
      "for request 9, total rows are 555\n",
      "for request 10, status code is 200\n",
      "for request 10, total rows are 615\n",
      "for request 11, status code is 200\n",
      "for request 11, total rows are 669\n",
      "for request 12, status code is 200\n",
      "for request 12, total rows are 728\n",
      "for request 13, status code is 200\n",
      "for request 13, total rows are 788\n",
      "for request 14, status code is 200\n",
      "for request 14, total rows are 851\n",
      "for request 15, status code is 200\n",
      "for request 15, total rows are 906\n",
      "for request 16, status code is 200\n",
      "for request 16, total rows are 957\n",
      "for request 17, status code is 200\n",
      "for request 17, total rows are 1018\n"
     ]
    }
   ],
   "source": [
    "#lonely_d2 = collection_add_reddit(1000,'https://api.pushshift.io/reddit/search/submission', 'foreveralone', 100, lonely_d1.created_utc[(len(lonely_d1) - 1)])"
   ]
  },
  {
   "cell_type": "markdown",
   "metadata": {},
   "source": [
    "### 2.2.4 Collection from reddit: Third 1000 post"
   ]
  },
  {
   "cell_type": "markdown",
   "metadata": {},
   "source": [
    "**Depression**"
   ]
  },
  {
   "cell_type": "code",
   "execution_count": 11,
   "metadata": {
    "scrolled": true
   },
   "outputs": [
    {
     "name": "stdout",
     "output_type": "stream",
     "text": [
      "for request 0, status code is 200\n",
      "for request 0, total rows are 84\n",
      "for request 1, status code is 200\n",
      "for request 1, total rows are 169\n",
      "for request 2, status code is 200\n",
      "for request 2, total rows are 255\n",
      "for request 3, status code is 200\n",
      "for request 3, total rows are 342\n",
      "for request 4, status code is 200\n",
      "for request 4, total rows are 428\n",
      "for request 5, status code is 200\n",
      "for request 5, total rows are 518\n",
      "for request 6, status code is 200\n",
      "for request 6, total rows are 608\n",
      "for request 7, status code is 200\n",
      "for request 7, total rows are 690\n",
      "for request 8, status code is 200\n",
      "for request 8, total rows are 775\n",
      "for request 9, status code is 200\n",
      "for request 9, total rows are 863\n",
      "for request 10, status code is 200\n",
      "for request 10, total rows are 952\n",
      "for request 11, status code is 200\n",
      "for request 11, total rows are 1037\n"
     ]
    }
   ],
   "source": [
    "#depression_d3 = collection_add_reddit(1000,'https://api.pushshift.io/reddit/search/submission', 'depression', 100, depression_d2.created_utc[(len(depression_d2) - 1)])"
   ]
  },
  {
   "cell_type": "markdown",
   "metadata": {},
   "source": [
    "**Lonely**"
   ]
  },
  {
   "cell_type": "code",
   "execution_count": 12,
   "metadata": {},
   "outputs": [
    {
     "name": "stdout",
     "output_type": "stream",
     "text": [
      "for request 0, status code is 200\n",
      "for request 0, total rows are 32\n",
      "for request 1, status code is 200\n",
      "for request 1, total rows are 70\n",
      "for request 2, status code is 200\n",
      "for request 2, total rows are 98\n",
      "for request 3, status code is 200\n",
      "for request 3, total rows are 136\n",
      "for request 4, status code is 200\n",
      "for request 4, total rows are 171\n",
      "for request 5, status code is 200\n",
      "for request 5, total rows are 197\n",
      "for request 6, status code is 200\n",
      "for request 6, total rows are 227\n",
      "for request 7, status code is 200\n",
      "for request 7, total rows are 251\n",
      "for request 8, status code is 200\n",
      "for request 8, total rows are 292\n",
      "for request 9, status code is 200\n",
      "for request 9, total rows are 327\n",
      "for request 10, status code is 200\n",
      "for request 10, total rows are 357\n",
      "for request 11, status code is 200\n",
      "for request 11, total rows are 393\n",
      "for request 12, status code is 200\n",
      "for request 12, total rows are 428\n",
      "for request 13, status code is 200\n",
      "for request 13, total rows are 461\n",
      "for request 14, status code is 200\n",
      "for request 14, total rows are 487\n",
      "for request 15, status code is 200\n",
      "for request 15, total rows are 531\n",
      "for request 16, status code is 200\n",
      "for request 16, total rows are 590\n",
      "for request 17, status code is 200\n",
      "for request 17, total rows are 640\n",
      "for request 18, status code is 200\n",
      "for request 18, total rows are 692\n",
      "for request 19, status code is 200\n",
      "for request 19, total rows are 745\n",
      "for request 20, status code is 200\n",
      "for request 20, total rows are 796\n",
      "for request 21, status code is 200\n",
      "for request 21, total rows are 852\n",
      "for request 22, status code is 200\n",
      "for request 22, total rows are 907\n",
      "for request 23, status code is 200\n",
      "for request 23, total rows are 960\n",
      "for request 24, status code is 200\n",
      "for request 24, total rows are 1017\n"
     ]
    }
   ],
   "source": [
    "#lonely_d3 = collection_add_reddit(1000,'https://api.pushshift.io/reddit/search/submission', 'foreveralone', 100, lonely_d2.created_utc[(len(lonely_d2) - 1)])"
   ]
  },
  {
   "cell_type": "markdown",
   "metadata": {},
   "source": [
    "### 2.2.5 Collection from reddit: Fourth 1000 post"
   ]
  },
  {
   "cell_type": "markdown",
   "metadata": {},
   "source": [
    "**Depression**"
   ]
  },
  {
   "cell_type": "code",
   "execution_count": 13,
   "metadata": {},
   "outputs": [
    {
     "name": "stdout",
     "output_type": "stream",
     "text": [
      "for request 0, status code is 200\n",
      "for request 0, total rows are 82\n",
      "for request 1, status code is 200\n",
      "for request 1, total rows are 160\n",
      "for request 2, status code is 200\n",
      "for request 2, total rows are 244\n",
      "for request 3, status code is 200\n",
      "for request 3, total rows are 327\n",
      "for request 4, status code is 200\n",
      "for request 4, total rows are 415\n",
      "for request 5, status code is 200\n",
      "for request 5, total rows are 482\n",
      "for request 6, status code is 200\n",
      "for request 6, total rows are 563\n",
      "for request 7, status code is 200\n",
      "for request 7, total rows are 645\n",
      "for request 8, status code is 200\n",
      "for request 8, total rows are 727\n",
      "for request 9, status code is 200\n",
      "for request 9, total rows are 811\n",
      "for request 10, status code is 200\n",
      "for request 10, total rows are 894\n",
      "for request 11, status code is 200\n",
      "for request 11, total rows are 977\n",
      "for request 12, status code is 200\n",
      "for request 12, total rows are 1064\n"
     ]
    }
   ],
   "source": [
    "#depression_d4 = collection_add_reddit(1000,'https://api.pushshift.io/reddit/search/submission', 'depression', 100, depression_d3.created_utc[(len(depression_d3) - 1)])"
   ]
  },
  {
   "cell_type": "markdown",
   "metadata": {},
   "source": [
    "**Lonely**"
   ]
  },
  {
   "cell_type": "code",
   "execution_count": 14,
   "metadata": {},
   "outputs": [
    {
     "name": "stdout",
     "output_type": "stream",
     "text": [
      "for request 0, status code is 200\n",
      "for request 0, total rows are 61\n",
      "for request 1, status code is 200\n",
      "for request 1, total rows are 124\n",
      "for request 2, status code is 200\n",
      "for request 2, total rows are 183\n",
      "for request 3, status code is 200\n",
      "for request 3, total rows are 237\n",
      "for request 4, status code is 200\n",
      "for request 4, total rows are 291\n",
      "for request 5, status code is 200\n",
      "for request 5, total rows are 341\n",
      "for request 6, status code is 200\n",
      "for request 6, total rows are 400\n",
      "for request 7, status code is 200\n",
      "for request 7, total rows are 453\n",
      "for request 8, status code is 200\n",
      "for request 8, total rows are 519\n",
      "for request 9, status code is 200\n",
      "for request 9, total rows are 573\n",
      "for request 10, status code is 200\n",
      "for request 10, total rows are 630\n",
      "for request 11, status code is 200\n",
      "for request 11, total rows are 683\n",
      "for request 12, status code is 200\n",
      "for request 12, total rows are 741\n",
      "for request 13, status code is 200\n",
      "for request 13, total rows are 801\n",
      "for request 14, status code is 200\n",
      "for request 14, total rows are 856\n",
      "for request 15, status code is 200\n",
      "for request 15, total rows are 919\n",
      "for request 16, status code is 200\n",
      "for request 16, total rows are 975\n",
      "for request 17, status code is 200\n",
      "for request 17, total rows are 1030\n"
     ]
    }
   ],
   "source": [
    "#lonely_d4 = collection_add_reddit(1000,'https://api.pushshift.io/reddit/search/submission', 'foreveralone', 100, lonely_d3.created_utc[(len(lonely_d3) - 1)])"
   ]
  },
  {
   "cell_type": "markdown",
   "metadata": {},
   "source": [
    "### 2.2.6 Collection from reddit: Remaining post to 5000 posts"
   ]
  },
  {
   "cell_type": "markdown",
   "metadata": {},
   "source": [
    "**Depression**"
   ]
  },
  {
   "cell_type": "code",
   "execution_count": 15,
   "metadata": {},
   "outputs": [
    {
     "data": {
      "text/plain": [
       "756"
      ]
     },
     "execution_count": 15,
     "metadata": {},
     "output_type": "execute_result"
    }
   ],
   "source": [
    "#Calculate the remaining posts\n",
    "# dep_rem_post = 5000 - len(depression_d1) - len(depression_d2) - len(depression_d3) - len(depression_d4)\n",
    "# dep_rem_post"
   ]
  },
  {
   "cell_type": "code",
   "execution_count": 16,
   "metadata": {},
   "outputs": [
    {
     "name": "stdout",
     "output_type": "stream",
     "text": [
      "for request 0, status code is 200\n",
      "for request 0, total rows are 85\n",
      "for request 1, status code is 200\n",
      "for request 1, total rows are 169\n",
      "for request 2, status code is 200\n",
      "for request 2, total rows are 254\n",
      "for request 3, status code is 200\n",
      "for request 3, total rows are 338\n",
      "for request 4, status code is 200\n",
      "for request 4, total rows are 419\n",
      "for request 5, status code is 200\n",
      "for request 5, total rows are 497\n",
      "for request 6, status code is 200\n",
      "for request 6, total rows are 575\n",
      "for request 7, status code is 200\n",
      "for request 7, total rows are 651\n",
      "for request 8, status code is 200\n",
      "for request 8, total rows are 738\n",
      "for request 9, status code is 200\n",
      "for request 9, total rows are 824\n"
     ]
    }
   ],
   "source": [
    "# Collect the remaining 700 posts\n",
    "#depression_d5 = collection_add_reddit(750,'https://api.pushshift.io/reddit/search/submission', 'depression', 100, depression_d4.created_utc[(len(depression_d4) - 1)])"
   ]
  },
  {
   "cell_type": "markdown",
   "metadata": {},
   "source": [
    "**Lonely**"
   ]
  },
  {
   "cell_type": "code",
   "execution_count": 17,
   "metadata": {},
   "outputs": [
    {
     "data": {
      "text/plain": [
       "892"
      ]
     },
     "execution_count": 17,
     "metadata": {},
     "output_type": "execute_result"
    }
   ],
   "source": [
    "#Calculate the remaining posts\n",
    "# lon_rem_post = 5000 - len(lonely_d1) - len(lonely_d2) - len(lonely_d3) - len(lonely_d4)\n",
    "# lon_rem_post"
   ]
  },
  {
   "cell_type": "code",
   "execution_count": 18,
   "metadata": {},
   "outputs": [
    {
     "name": "stdout",
     "output_type": "stream",
     "text": [
      "for request 0, status code is 200\n",
      "for request 0, total rows are 63\n",
      "for request 1, status code is 200\n",
      "for request 1, total rows are 107\n",
      "for request 2, status code is 200\n",
      "for request 2, total rows are 161\n",
      "for request 3, status code is 200\n",
      "for request 3, total rows are 229\n",
      "for request 4, status code is 200\n",
      "for request 4, total rows are 290\n",
      "for request 5, status code is 200\n",
      "for request 5, total rows are 348\n",
      "for request 6, status code is 200\n",
      "for request 6, total rows are 406\n",
      "for request 7, status code is 200\n",
      "for request 7, total rows are 449\n",
      "for request 8, status code is 200\n",
      "for request 8, total rows are 500\n",
      "for request 9, status code is 200\n",
      "for request 9, total rows are 564\n",
      "for request 10, status code is 200\n",
      "for request 10, total rows are 626\n",
      "for request 11, status code is 200\n",
      "for request 11, total rows are 690\n",
      "for request 12, status code is 200\n",
      "for request 12, total rows are 750\n",
      "for request 13, status code is 200\n",
      "for request 13, total rows are 800\n",
      "for request 14, status code is 200\n",
      "for request 14, total rows are 855\n",
      "for request 15, status code is 200\n",
      "for request 15, total rows are 918\n"
     ]
    }
   ],
   "source": [
    "# Collect the remaining 900 posts\n",
    "#lonely_d5 = collection_add_reddit(900,'https://api.pushshift.io/reddit/search/submission', 'foreveralone', 100, lonely_d4.created_utc[(len(lonely_d4) - 1)])"
   ]
  },
  {
   "cell_type": "markdown",
   "metadata": {},
   "source": [
    "### 2.2.7 Compilation of posts"
   ]
  },
  {
   "cell_type": "markdown",
   "metadata": {},
   "source": [
    "**Depression**"
   ]
  },
  {
   "cell_type": "code",
   "execution_count": 30,
   "metadata": {},
   "outputs": [
    {
     "name": "stdout",
     "output_type": "stream",
     "text": [
      "The depression post time frame are from 1615420610 to 1617206312\n",
      "The total depression_data shape is (5068, 66)\n"
     ]
    }
   ],
   "source": [
    "# depression_d1_d2 = pd.concat([depression_d1, depression_d2])\n",
    "# depression_d1_d3 = pd.concat([depression_d1_d2, depression_d3])\n",
    "# depression_d1_d4 = pd.concat([depression_d1_d3, depression_d4])\n",
    "# depression_data = pd.concat([depression_d1_d4, depression_d5])\n",
    "# depression_data = depression_data.reset_index(drop = True)\n",
    "# print(f\"The depression post time frame are from {depression_data.created_utc[(len(depression_data)-1)]} to {depression_data.created_utc[0]}\")\n",
    "# print(f\"The total depression_data shape is {depression_data.shape}\")"
   ]
  },
  {
   "cell_type": "markdown",
   "metadata": {},
   "source": [
    "**Lonely**"
   ]
  },
  {
   "cell_type": "code",
   "execution_count": 31,
   "metadata": {},
   "outputs": [
    {
     "name": "stdout",
     "output_type": "stream",
     "text": [
      "The lonely post time frame are from 1600057348 to 1617198755\n",
      "The lonely_data shape is (5026, 80)\n"
     ]
    }
   ],
   "source": [
    "# lonely_d1_d2 = pd.concat([lonely_d1, lonely_d2])\n",
    "# lonely_d1_d3 = pd.concat([lonely_d1_d2, lonely_d3])\n",
    "# lonely_d1_d4 = pd.concat([lonely_d1_d3, lonely_d4])\n",
    "# lonely_data = pd.concat([lonely_d1_d4, lonely_d5])\n",
    "# lonely_data = lonely_data.reset_index(drop = True)\n",
    "# print(f\"The lonely post time frame are from {lonely_data.created_utc[(len(lonely_data)-1)]} to {lonely_data.created_utc[0]}\")\n",
    "# print(f\"The lonely_data shape is {lonely_data.shape}\")"
   ]
  },
  {
   "cell_type": "markdown",
   "metadata": {},
   "source": [
    "### 2.2.7 To verify the removal of selftext without contents or videos"
   ]
  },
  {
   "cell_type": "markdown",
   "metadata": {},
   "source": [
    "**Depression**"
   ]
  },
  {
   "cell_type": "code",
   "execution_count": 32,
   "metadata": {},
   "outputs": [
    {
     "data": {
      "text/plain": [
       "selftext    0\n",
       "dtype: int64"
      ]
     },
     "execution_count": 32,
     "metadata": {},
     "output_type": "execute_result"
    }
   ],
   "source": [
    "#depression_data[depression_data[\"selftext\"] =='[removed]'].count()[['selftext']]"
   ]
  },
  {
   "cell_type": "code",
   "execution_count": 33,
   "metadata": {},
   "outputs": [
    {
     "data": {
      "text/plain": [
       "selftext    0\n",
       "dtype: int64"
      ]
     },
     "execution_count": 33,
     "metadata": {},
     "output_type": "execute_result"
    }
   ],
   "source": [
    "#depression_data[depression_data[\"selftext\"] =='[deleted]'].count()[['selftext']]"
   ]
  },
  {
   "cell_type": "code",
   "execution_count": 34,
   "metadata": {},
   "outputs": [
    {
     "data": {
      "text/plain": [
       "selftext    0\n",
       "dtype: int64"
      ]
     },
     "execution_count": 34,
     "metadata": {},
     "output_type": "execute_result"
    }
   ],
   "source": [
    "#depression_data[depression_data[\"selftext\"] == \"\"].count()[['selftext']]"
   ]
  },
  {
   "cell_type": "code",
   "execution_count": 35,
   "metadata": {},
   "outputs": [
    {
     "data": {
      "text/plain": [
       "selftext    0\n",
       "dtype: int64"
      ]
     },
     "execution_count": 35,
     "metadata": {},
     "output_type": "execute_result"
    }
   ],
   "source": [
    "#depression_data[depression_data[\"is_video\"] == True].count()[['selftext']]"
   ]
  },
  {
   "cell_type": "markdown",
   "metadata": {},
   "source": [
    "**Lonely**"
   ]
  },
  {
   "cell_type": "code",
   "execution_count": 36,
   "metadata": {},
   "outputs": [
    {
     "data": {
      "text/plain": [
       "selftext    0\n",
       "dtype: int64"
      ]
     },
     "execution_count": 36,
     "metadata": {},
     "output_type": "execute_result"
    }
   ],
   "source": [
    "#lonely_data[lonely_data[\"selftext\"] =='[removed]'].count()[['selftext']]"
   ]
  },
  {
   "cell_type": "code",
   "execution_count": 37,
   "metadata": {},
   "outputs": [
    {
     "data": {
      "text/plain": [
       "selftext    0\n",
       "dtype: int64"
      ]
     },
     "execution_count": 37,
     "metadata": {},
     "output_type": "execute_result"
    }
   ],
   "source": [
    "#lonely_data[lonely_data[\"selftext\"] =='[deleted]'].count()[['selftext']]"
   ]
  },
  {
   "cell_type": "code",
   "execution_count": 38,
   "metadata": {},
   "outputs": [
    {
     "data": {
      "text/plain": [
       "selftext    0\n",
       "dtype: int64"
      ]
     },
     "execution_count": 38,
     "metadata": {},
     "output_type": "execute_result"
    }
   ],
   "source": [
    "#lonely_data[lonely_data[\"selftext\"] == \"\"].count()[['selftext']]"
   ]
  },
  {
   "cell_type": "code",
   "execution_count": 39,
   "metadata": {},
   "outputs": [
    {
     "data": {
      "text/plain": [
       "selftext    0\n",
       "dtype: int64"
      ]
     },
     "execution_count": 39,
     "metadata": {},
     "output_type": "execute_result"
    }
   ],
   "source": [
    "#lonely_data[lonely_data[\"is_video\"] == True].count()[['selftext']]"
   ]
  },
  {
   "cell_type": "markdown",
   "metadata": {},
   "source": [
    "## 2.3. Summary"
   ]
  },
  {
   "cell_type": "markdown",
   "metadata": {},
   "source": [
    "* About five thousands posts from depression and lonely forum have successfully collected from the reddit website.\n",
    "* The posts were compiled to depression_data and lonely_data respectively.\n",
    "* These posts were be exported as a csv file and be cleaned in the next section."
   ]
  },
  {
   "cell_type": "markdown",
   "metadata": {},
   "source": [
    "## Exporting Data"
   ]
  },
  {
   "cell_type": "code",
   "execution_count": 40,
   "metadata": {
    "scrolled": true
   },
   "outputs": [],
   "source": [
    "# Placed the # to refrain from executing\n",
    "#depression_data.to_csv(\"../data/depression_data.csv\", index = False)\n",
    "#lonely_data.to_csv(\"../data/lonely_data.csv\", index = False) "
   ]
  },
  {
   "cell_type": "markdown",
   "metadata": {},
   "source": [
    "## References"
   ]
  },
  {
   "cell_type": "markdown",
   "metadata": {},
   "source": [
    "[1] C. Curley, \"Why Millennial Depression Is on the Rise,\" *Healthline Media*, March 11, 2019. [Online]. Available: https://www.healthline.com/health-news/millennial-depression-on-the-rise#Is-social-media-to-blame? [Accessed: Apr. 17, 2021].\n",
    "\n",
    "[2] R. Mushtaq, S. Shoib, T. Shah, and S. Mushtaq, \"Relationship Between Loneliness, Psychiatric Disorders and Physical Health ? A Review on the Psychological Aspects of Loneliness,\" *Journal of Clinical and Diagnostic Research,* vol.8, no.9, WE01-04, September 20, 2014. doi: 10.7860/JCDR/2014/10077.4828 [Online]. Available: https://www.ncbi.nlm.nih.gov/pmc/articles/PMC4225959/ [Accessed: Apr. 17, 2021].\n",
    "\n",
    "[3] C. Raypole, \"Loneliness and Depression: What's the Connection?,\" *Healthline Media*, July 2, 2020. [Online]. Available: https://www.healthline.com/health/loneliness-and-depression [Accessed: Apr. 17, 2021].\n",
    "\n",
    "[4] \"Depression Hotline Number,\" *MentalHelp.net*. [Online]. Available: https://www.mentalhelp.net/depression/hotline/ [Accessed: Apr. 17, 2021].\n",
    "\n",
    "[5] \"The Long-term Effects of Not Seeking Treatment for Depression,\" *Salience TMS Neuro Solutions*, March 23, 2020. [Online]. Available: https://salienceneuro.com/long-term-effects-of-depression-2/ [Accessed: Apr. 17, 2021].\n",
    "\n",
    "[6] \"Depression and Other Common Mental Disorders,\" *World Health Organization*, January 3, 2017. [Online]. Available: https://www.who.int/publications/i/item/depression-global-health-estimates [Accessed: Apr. 17, 2021].\n",
    "\n",
    "[7] \"Depression,\" *World Health Organization*, January 30, 2020. [Online]. Available: https://www.who.int/news-room/fact-sheets/detail/depression [Accessed: Apr. 17, 2021].\n",
    "\n",
    "[8] J. E. Johnson, \"Social Media Use, Social Comparison, and Loneliness,\" *Dissertations and\n",
    "Theses*, Paper 5571, 2020, pp. 1-35. doi: 10.15760/etd.7445 [Online]. Available: https://pdxscholar.library.pdx.edu/cgi/viewcontent.cgi?article=6646&context=open_access_etds [Accessed: Apr. 17, 2021].\n",
    "\n",
    "[9] \"Loneliness a leading cause of depression in older adults,\" *ScienceDaily*, 2021. [Online]. Available: https://www.sciencedaily.com/releases/2020/11/201109184947.htm [Accessed: Apr. 22, 2021].\n"
   ]
  }
 ],
 "metadata": {
  "kernelspec": {
   "display_name": "Python 3",
   "language": "python",
   "name": "python3"
  },
  "language_info": {
   "codemirror_mode": {
    "name": "ipython",
    "version": 3
   },
   "file_extension": ".py",
   "mimetype": "text/x-python",
   "name": "python",
   "nbconvert_exporter": "python",
   "pygments_lexer": "ipython3",
   "version": "3.8.5"
  }
 },
 "nbformat": 4,
 "nbformat_minor": 4
}
