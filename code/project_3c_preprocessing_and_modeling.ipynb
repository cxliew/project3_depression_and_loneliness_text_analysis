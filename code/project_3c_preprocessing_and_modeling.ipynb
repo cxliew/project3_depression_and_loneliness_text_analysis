{
 "cells": [
  {
   "cell_type": "markdown",
   "metadata": {},
   "source": [
    "# Project 3C: Depression and Loneliness Text Analysis"
   ]
  },
  {
   "cell_type": "markdown",
   "metadata": {},
   "source": [
    "### Overall Contents:\n",
    "- Background\n",
    "- Data Collection\n",
    "- Data Cleaning\n",
    "- Exploratory Data Analysis\n",
    "- [Preprocessing](#5.-Preprocessing) **(In this notebook)**\n",
    "- [Modeling](#6.-Modeling) **(In this notebook)**\n",
    "- [Evaluation](#7.-Evaluation) **(In this notebook)**\n",
    "- [Conclusions and Recommendations](#8.-Conclusions-and-Recommendations) **(In this notebook)**"
   ]
  },
  {
   "cell_type": "markdown",
   "metadata": {},
   "source": [
    "### Data Dictionary\n",
    "The dataset contains the posts that were published under the social news website, [reddit](https://www.reddit.com) between September 2020 to March 2021. \n",
    "\n",
    "The dataset used for this analysis are as followed:--\n",
    "\n",
    "* depression_lonely_data_clean (compilation of depression_data and lonely_data that have undergone text preprocessing) - labelled as depression_lonely_data\n",
    "\n",
    "|Feature|Type|Dataset|Description|\n",
    "|:---|:---|:---|:---|\n",
    "|**author**|*object*| depression_lonely_data_clean|The author who write the post in subreddit|\n",
    "|**subreddit**|*object*| depression_lonely_data_clean|The forum in the website reddit|\n",
    "|**selftext**|*object*| depression_lonely_data_clean|The post in the subreddit|\n",
    "|**title**|*object*| depression_lonely_data_clean|The title of the post in the subreddit|\n",
    "|**created_utc**|*int64*| depression_lonely_data_clean|The utc time that the post is created|\n",
    "|**selftext_word_count**|*int64*| depression_lonely_data_clean|The word count of a post|\n",
    "|**title_word_count**|*int64*| depression_lonely_data_clean|The word count of a title post|\n",
    "|**total_posts**|*int64*|depression_lonely_data_clean|The number of posts an author posted during the period the data was collected|\n",
    "|**selftext_tokenize**|*object*|depression_lonely_data_clean|The posts that undergo tokenization|\n",
    "|**selftext_stopremoval**|*object*| depression_lonely_data_clean|The posts that undergo tokenization and removal of stop words|\n",
    "|**title_tokenize**|*object*| depression_lonely_data_clean|The title of the posts that undergo tokenization|\n",
    "|**title_stopremoval**|*object*| depression_lonely_data_clean|The title of the posts that undergo tokenization and removal of stop words|\n",
    "|**selftext_lem**|*object*| depression_lonely_data_clean|The posts that undergo tokenization, removal of stop words and lemmatization|\n",
    "|**title_lem**|*object*| depression_lonely_data_clean|The title posts that undergo tokenization, removal of stop words and lemmatization|\n",
    "|**selftext_pstem**|*object*| depression_lonely_data_clean|The posts that undergo tokenization, removal of stop words and stemming|\n",
    "|**title_pstem**|*object*| depression_lonely_data_clean|The title posts that undergo tokenization, removal of stop words and stemming|\n",
    "\n",
    "The data source below are obtained from database [reddit](https://www.reddit.com):\n",
    "* [depression](https://www.reddit.com/search/?q=depression) \n",
    "* [foreveralone](https://www.reddit.com/search?q=foreveralone&type=link)"
   ]
  },
  {
   "cell_type": "markdown",
   "metadata": {},
   "source": [
    "## 5. Preprocessing"
   ]
  },
  {
   "cell_type": "markdown",
   "metadata": {},
   "source": [
    "### 5.1 Libraries Import"
   ]
  },
  {
   "cell_type": "code",
   "execution_count": 1,
   "metadata": {},
   "outputs": [],
   "source": [
    "# Imports:\n",
    "import pandas as pd\n",
    "import numpy as np\n",
    "import matplotlib.pyplot as plt\n",
    "import seaborn as sns\n",
    "import warnings\n",
    "\n",
    "from sklearn.model_selection import train_test_split, GridSearchCV\n",
    "from sklearn.feature_extraction.text import TfidfVectorizer\n",
    "from sklearn.pipeline import Pipeline\n",
    "from sklearn.naive_bayes import MultinomialNB\n",
    "from sklearn.linear_model import LogisticRegression\n",
    "from sklearn.neighbors import KNeighborsClassifier\n",
    "from sklearn.metrics import confusion_matrix, plot_confusion_matrix, accuracy_score, plot_roc_curve, roc_auc_score, recall_score, precision_score, f1_score\n",
    "\n",
    "%config InlineBackend.figure_format = 'retina'\n",
    "%matplotlib inline \n",
    "\n",
    "# Maximum display of columns\n",
    "pd.options.display.max_colwidth = 400\n",
    "pd.options.display.max_rows = 400"
   ]
  },
  {
   "cell_type": "markdown",
   "metadata": {},
   "source": [
    "### 5.2 Data Import"
   ]
  },
  {
   "cell_type": "code",
   "execution_count": 2,
   "metadata": {},
   "outputs": [],
   "source": [
    "# Import of depression_lonely_data from csv\n",
    "depression_lonely_data = pd.read_csv('../data/depression_lonely_data_clean.csv')"
   ]
  },
  {
   "cell_type": "code",
   "execution_count": 3,
   "metadata": {
    "scrolled": false
   },
   "outputs": [
    {
     "name": "stdout",
     "output_type": "stream",
     "text": [
      "depression      0.511242\n",
      "foreveralone    0.488758\n",
      "Name: subreddit, dtype: float64\n"
     ]
    },
    {
     "data": {
      "text/html": [
       "<div>\n",
       "<style scoped>\n",
       "    .dataframe tbody tr th:only-of-type {\n",
       "        vertical-align: middle;\n",
       "    }\n",
       "\n",
       "    .dataframe tbody tr th {\n",
       "        vertical-align: top;\n",
       "    }\n",
       "\n",
       "    .dataframe thead th {\n",
       "        text-align: right;\n",
       "    }\n",
       "</style>\n",
       "<table border=\"1\" class=\"dataframe\">\n",
       "  <thead>\n",
       "    <tr style=\"text-align: right;\">\n",
       "      <th></th>\n",
       "      <th>author</th>\n",
       "      <th>subreddit</th>\n",
       "      <th>selftext</th>\n",
       "      <th>title</th>\n",
       "      <th>created_utc</th>\n",
       "      <th>selftext_word_count</th>\n",
       "      <th>title_word_count</th>\n",
       "      <th>total_posts</th>\n",
       "      <th>selftext_tokenize</th>\n",
       "      <th>selftext_stopremoval</th>\n",
       "      <th>title_tokenize</th>\n",
       "      <th>title_stopremoval</th>\n",
       "      <th>selftext_lem</th>\n",
       "      <th>title_lem</th>\n",
       "      <th>selftext_pstem</th>\n",
       "      <th>title_pstem</th>\n",
       "    </tr>\n",
       "  </thead>\n",
       "  <tbody>\n",
       "    <tr>\n",
       "      <th>0</th>\n",
       "      <td>hatetheseparties521</td>\n",
       "      <td>depression</td>\n",
       "      <td>im worried i permanently fd up my dick how rare is this disease from antidepressants</td>\n",
       "      <td>how common is pssd</td>\n",
       "      <td>1617206312</td>\n",
       "      <td>15</td>\n",
       "      <td>4</td>\n",
       "      <td>2</td>\n",
       "      <td>['im', 'worried', 'i', 'permanently', 'fd', 'up', 'my', 'dick', 'how', 'rare', 'is', 'this', 'disease', 'from', 'antidepressants']</td>\n",
       "      <td>['im', 'worried', 'permanently', 'fd', 'dick', 'rare', 'disease', 'antidepressants']</td>\n",
       "      <td>['how', 'common', 'is', 'pssd']</td>\n",
       "      <td>['common', 'pssd']</td>\n",
       "      <td>im worried permanently fd dick rare disease antidepressant</td>\n",
       "      <td>common pssd</td>\n",
       "      <td>im worri perman fd dick rare diseas antidepress</td>\n",
       "      <td>common pssd</td>\n",
       "    </tr>\n",
       "    <tr>\n",
       "      <th>1</th>\n",
       "      <td>jaksiejsndnd</td>\n",
       "      <td>depression</td>\n",
       "      <td>im going to do it to avoid responsibilities and shit i dont fcking care i just want to die dont want to talk about it bye just a week from now or something ill be gone</td>\n",
       "      <td>im going to end my life</td>\n",
       "      <td>1617206166</td>\n",
       "      <td>37</td>\n",
       "      <td>6</td>\n",
       "      <td>2</td>\n",
       "      <td>['im', 'going', 'to', 'do', 'it', 'to', 'avoid', 'responsibilities', 'and', 'shit', 'i', 'dont', 'fcking', 'care', 'i', 'just', 'want', 'to', 'die', 'dont', 'want', 'to', 'talk', 'about', 'it', 'bye', 'just', 'a', 'week', 'from', 'now', 'or', 'something', 'ill', 'be', 'gone']</td>\n",
       "      <td>['im', 'going', 'avoid', 'responsibilities', 'shit', 'dont', 'fcking', 'care', 'want', 'die', 'dont', 'want', 'talk', 'bye', 'week', 'something', 'ill', 'gone']</td>\n",
       "      <td>['im', 'going', 'to', 'end', 'my', 'life']</td>\n",
       "      <td>['im', 'going', 'end', 'life']</td>\n",
       "      <td>im going avoid responsibility shit dont fcking care want die dont want talk bye week something ill gone</td>\n",
       "      <td>im going end life</td>\n",
       "      <td>im go avoid respons shit dont fcking care want die dont want talk bye week someth ill gone</td>\n",
       "      <td>im go end life</td>\n",
       "    </tr>\n",
       "  </tbody>\n",
       "</table>\n",
       "</div>"
      ],
      "text/plain": [
       "                author   subreddit  \\\n",
       "0  hatetheseparties521  depression   \n",
       "1         jaksiejsndnd  depression   \n",
       "\n",
       "                                                                                                                                                                   selftext  \\\n",
       "0                                                                                      im worried i permanently fd up my dick how rare is this disease from antidepressants   \n",
       "1  im going to do it to avoid responsibilities and shit i dont fcking care i just want to die dont want to talk about it bye just a week from now or something ill be gone    \n",
       "\n",
       "                     title  created_utc  selftext_word_count  \\\n",
       "0       how common is pssd   1617206312                   15   \n",
       "1  im going to end my life   1617206166                   37   \n",
       "\n",
       "   title_word_count  total_posts  \\\n",
       "0                 4            2   \n",
       "1                 6            2   \n",
       "\n",
       "                                                                                                                                                                                                                                                                      selftext_tokenize  \\\n",
       "0                                                                                                                                                    ['im', 'worried', 'i', 'permanently', 'fd', 'up', 'my', 'dick', 'how', 'rare', 'is', 'this', 'disease', 'from', 'antidepressants']   \n",
       "1  ['im', 'going', 'to', 'do', 'it', 'to', 'avoid', 'responsibilities', 'and', 'shit', 'i', 'dont', 'fcking', 'care', 'i', 'just', 'want', 'to', 'die', 'dont', 'want', 'to', 'talk', 'about', 'it', 'bye', 'just', 'a', 'week', 'from', 'now', 'or', 'something', 'ill', 'be', 'gone']   \n",
       "\n",
       "                                                                                                                                               selftext_stopremoval  \\\n",
       "0                                                                              ['im', 'worried', 'permanently', 'fd', 'dick', 'rare', 'disease', 'antidepressants']   \n",
       "1  ['im', 'going', 'avoid', 'responsibilities', 'shit', 'dont', 'fcking', 'care', 'want', 'die', 'dont', 'want', 'talk', 'bye', 'week', 'something', 'ill', 'gone']   \n",
       "\n",
       "                               title_tokenize               title_stopremoval  \\\n",
       "0             ['how', 'common', 'is', 'pssd']              ['common', 'pssd']   \n",
       "1  ['im', 'going', 'to', 'end', 'my', 'life']  ['im', 'going', 'end', 'life']   \n",
       "\n",
       "                                                                                              selftext_lem  \\\n",
       "0                                               im worried permanently fd dick rare disease antidepressant   \n",
       "1  im going avoid responsibility shit dont fcking care want die dont want talk bye week something ill gone   \n",
       "\n",
       "           title_lem  \\\n",
       "0        common pssd   \n",
       "1  im going end life   \n",
       "\n",
       "                                                                               selftext_pstem  \\\n",
       "0                                             im worri perman fd dick rare diseas antidepress   \n",
       "1  im go avoid respons shit dont fcking care want die dont want talk bye week someth ill gone   \n",
       "\n",
       "      title_pstem  \n",
       "0     common pssd  \n",
       "1  im go end life  "
      ]
     },
     "execution_count": 3,
     "metadata": {},
     "output_type": "execute_result"
    }
   ],
   "source": [
    "# Visualize the dataframe with its proportion in subreddit\n",
    "print(f\"{depression_lonely_data.subreddit.value_counts(normalize=True)}\")\n",
    "depression_lonely_data.head(2)"
   ]
  },
  {
   "cell_type": "markdown",
   "metadata": {},
   "source": [
    "### 5.3 Preprocessing"
   ]
  },
  {
   "cell_type": "markdown",
   "metadata": {},
   "source": [
    "For modeling, we will only be focusing on selftext.\n",
    "\n",
    "Part of the preprocessing has been performed in the exploratory data analysis section"
   ]
  },
  {
   "cell_type": "markdown",
   "metadata": {},
   "source": [
    "#### 5.3.1 Check for missing values"
   ]
  },
  {
   "cell_type": "code",
   "execution_count": 4,
   "metadata": {
    "scrolled": false
   },
   "outputs": [
    {
     "name": "stdout",
     "output_type": "stream",
     "text": [
      "<class 'pandas.core.frame.DataFrame'>\n",
      "RangeIndex: 9829 entries, 0 to 9828\n",
      "Data columns (total 16 columns):\n",
      " #   Column                Non-Null Count  Dtype \n",
      "---  ------                --------------  ----- \n",
      " 0   author                9829 non-null   object\n",
      " 1   subreddit             9829 non-null   object\n",
      " 2   selftext              9828 non-null   object\n",
      " 3   title                 9827 non-null   object\n",
      " 4   created_utc           9829 non-null   int64 \n",
      " 5   selftext_word_count   9829 non-null   int64 \n",
      " 6   title_word_count      9829 non-null   int64 \n",
      " 7   total_posts           9829 non-null   int64 \n",
      " 8   selftext_tokenize     9829 non-null   object\n",
      " 9   selftext_stopremoval  9829 non-null   object\n",
      " 10  title_tokenize        9829 non-null   object\n",
      " 11  title_stopremoval     9829 non-null   object\n",
      " 12  selftext_lem          9822 non-null   object\n",
      " 13  title_lem             9757 non-null   object\n",
      " 14  selftext_pstem        9822 non-null   object\n",
      " 15  title_pstem           9757 non-null   object\n",
      "dtypes: int64(4), object(12)\n",
      "memory usage: 1.2+ MB\n"
     ]
    }
   ],
   "source": [
    "# Check for missing values\n",
    "depression_lonely_data.info()"
   ]
  },
  {
   "cell_type": "code",
   "execution_count": 5,
   "metadata": {
    "scrolled": true
   },
   "outputs": [
    {
     "data": {
      "text/plain": [
       "926     NaN\n",
       "5853    NaN\n",
       "6256    NaN\n",
       "7103    NaN\n",
       "8940    NaN\n",
       "Name: selftext_pstem, dtype: object"
      ]
     },
     "execution_count": 5,
     "metadata": {},
     "output_type": "execute_result"
    }
   ],
   "source": [
    "# The presence of missing values\n",
    "depression_lonely_data[depression_lonely_data[\"selftext_pstem\"].isnull()][\"selftext_pstem\"].head()"
   ]
  },
  {
   "cell_type": "markdown",
   "metadata": {},
   "source": [
    "**There are missing values present in selftext, thus we will be removing the missing values**"
   ]
  },
  {
   "cell_type": "code",
   "execution_count": 6,
   "metadata": {},
   "outputs": [],
   "source": [
    "# To remove the missing values\n",
    "depression_lonely_data = depression_lonely_data[~depression_lonely_data[\"selftext_pstem\"].isnull()]\n",
    "depression_lonely_data = depression_lonely_data.reset_index(drop=True)"
   ]
  },
  {
   "cell_type": "code",
   "execution_count": 7,
   "metadata": {},
   "outputs": [
    {
     "data": {
      "text/plain": [
       "0"
      ]
     },
     "execution_count": 7,
     "metadata": {},
     "output_type": "execute_result"
    }
   ],
   "source": [
    "# Check for missing values after removal\n",
    "depression_lonely_data[\"selftext_pstem\"].isnull().sum()"
   ]
  },
  {
   "cell_type": "code",
   "execution_count": 8,
   "metadata": {},
   "outputs": [
    {
     "data": {
      "text/plain": [
       "depression      0.511505\n",
       "foreveralone    0.488495\n",
       "Name: subreddit, dtype: float64"
      ]
     },
     "execution_count": 8,
     "metadata": {},
     "output_type": "execute_result"
    }
   ],
   "source": [
    "depression_lonely_data.subreddit.value_counts(normalize=True)"
   ]
  },
  {
   "cell_type": "markdown",
   "metadata": {},
   "source": [
    "#### 5.3.2 Binarize the subreddit"
   ]
  },
  {
   "cell_type": "code",
   "execution_count": 9,
   "metadata": {},
   "outputs": [
    {
     "name": "stdout",
     "output_type": "stream",
     "text": [
      "<class 'pandas.core.frame.DataFrame'>\n",
      "RangeIndex: 9822 entries, 0 to 9821\n",
      "Data columns (total 16 columns):\n",
      " #   Column                Non-Null Count  Dtype \n",
      "---  ------                --------------  ----- \n",
      " 0   author                9822 non-null   object\n",
      " 1   subreddit             9822 non-null   object\n",
      " 2   selftext              9822 non-null   object\n",
      " 3   title                 9821 non-null   object\n",
      " 4   created_utc           9822 non-null   int64 \n",
      " 5   selftext_word_count   9822 non-null   int64 \n",
      " 6   title_word_count      9822 non-null   int64 \n",
      " 7   total_posts           9822 non-null   int64 \n",
      " 8   selftext_tokenize     9822 non-null   object\n",
      " 9   selftext_stopremoval  9822 non-null   object\n",
      " 10  title_tokenize        9822 non-null   object\n",
      " 11  title_stopremoval     9822 non-null   object\n",
      " 12  selftext_lem          9822 non-null   object\n",
      " 13  title_lem             9751 non-null   object\n",
      " 14  selftext_pstem        9822 non-null   object\n",
      " 15  title_pstem           9751 non-null   object\n",
      "dtypes: int64(4), object(12)\n",
      "memory usage: 1.2+ MB\n"
     ]
    }
   ],
   "source": [
    "depression_lonely_data.info()"
   ]
  },
  {
   "cell_type": "code",
   "execution_count": 10,
   "metadata": {},
   "outputs": [
    {
     "data": {
      "text/html": [
       "<div>\n",
       "<style scoped>\n",
       "    .dataframe tbody tr th:only-of-type {\n",
       "        vertical-align: middle;\n",
       "    }\n",
       "\n",
       "    .dataframe tbody tr th {\n",
       "        vertical-align: top;\n",
       "    }\n",
       "\n",
       "    .dataframe thead th {\n",
       "        text-align: right;\n",
       "    }\n",
       "</style>\n",
       "<table border=\"1\" class=\"dataframe\">\n",
       "  <thead>\n",
       "    <tr style=\"text-align: right;\">\n",
       "      <th></th>\n",
       "      <th>author</th>\n",
       "      <th>selftext</th>\n",
       "      <th>title</th>\n",
       "      <th>created_utc</th>\n",
       "      <th>selftext_word_count</th>\n",
       "      <th>title_word_count</th>\n",
       "      <th>total_posts</th>\n",
       "      <th>selftext_tokenize</th>\n",
       "      <th>selftext_stopremoval</th>\n",
       "      <th>title_tokenize</th>\n",
       "      <th>title_stopremoval</th>\n",
       "      <th>selftext_lem</th>\n",
       "      <th>title_lem</th>\n",
       "      <th>selftext_pstem</th>\n",
       "      <th>title_pstem</th>\n",
       "      <th>subreddit_foreveralone</th>\n",
       "    </tr>\n",
       "  </thead>\n",
       "  <tbody>\n",
       "    <tr>\n",
       "      <th>0</th>\n",
       "      <td>hatetheseparties521</td>\n",
       "      <td>im worried i permanently fd up my dick how rare is this disease from antidepressants</td>\n",
       "      <td>how common is pssd</td>\n",
       "      <td>1617206312</td>\n",
       "      <td>15</td>\n",
       "      <td>4</td>\n",
       "      <td>2</td>\n",
       "      <td>['im', 'worried', 'i', 'permanently', 'fd', 'up', 'my', 'dick', 'how', 'rare', 'is', 'this', 'disease', 'from', 'antidepressants']</td>\n",
       "      <td>['im', 'worried', 'permanently', 'fd', 'dick', 'rare', 'disease', 'antidepressants']</td>\n",
       "      <td>['how', 'common', 'is', 'pssd']</td>\n",
       "      <td>['common', 'pssd']</td>\n",
       "      <td>im worried permanently fd dick rare disease antidepressant</td>\n",
       "      <td>common pssd</td>\n",
       "      <td>im worri perman fd dick rare diseas antidepress</td>\n",
       "      <td>common pssd</td>\n",
       "      <td>0</td>\n",
       "    </tr>\n",
       "    <tr>\n",
       "      <th>1</th>\n",
       "      <td>jaksiejsndnd</td>\n",
       "      <td>im going to do it to avoid responsibilities and shit i dont fcking care i just want to die dont want to talk about it bye just a week from now or something ill be gone</td>\n",
       "      <td>im going to end my life</td>\n",
       "      <td>1617206166</td>\n",
       "      <td>37</td>\n",
       "      <td>6</td>\n",
       "      <td>2</td>\n",
       "      <td>['im', 'going', 'to', 'do', 'it', 'to', 'avoid', 'responsibilities', 'and', 'shit', 'i', 'dont', 'fcking', 'care', 'i', 'just', 'want', 'to', 'die', 'dont', 'want', 'to', 'talk', 'about', 'it', 'bye', 'just', 'a', 'week', 'from', 'now', 'or', 'something', 'ill', 'be', 'gone']</td>\n",
       "      <td>['im', 'going', 'avoid', 'responsibilities', 'shit', 'dont', 'fcking', 'care', 'want', 'die', 'dont', 'want', 'talk', 'bye', 'week', 'something', 'ill', 'gone']</td>\n",
       "      <td>['im', 'going', 'to', 'end', 'my', 'life']</td>\n",
       "      <td>['im', 'going', 'end', 'life']</td>\n",
       "      <td>im going avoid responsibility shit dont fcking care want die dont want talk bye week something ill gone</td>\n",
       "      <td>im going end life</td>\n",
       "      <td>im go avoid respons shit dont fcking care want die dont want talk bye week someth ill gone</td>\n",
       "      <td>im go end life</td>\n",
       "      <td>0</td>\n",
       "    </tr>\n",
       "  </tbody>\n",
       "</table>\n",
       "</div>"
      ],
      "text/plain": [
       "                author  \\\n",
       "0  hatetheseparties521   \n",
       "1         jaksiejsndnd   \n",
       "\n",
       "                                                                                                                                                                   selftext  \\\n",
       "0                                                                                      im worried i permanently fd up my dick how rare is this disease from antidepressants   \n",
       "1  im going to do it to avoid responsibilities and shit i dont fcking care i just want to die dont want to talk about it bye just a week from now or something ill be gone    \n",
       "\n",
       "                     title  created_utc  selftext_word_count  \\\n",
       "0       how common is pssd   1617206312                   15   \n",
       "1  im going to end my life   1617206166                   37   \n",
       "\n",
       "   title_word_count  total_posts  \\\n",
       "0                 4            2   \n",
       "1                 6            2   \n",
       "\n",
       "                                                                                                                                                                                                                                                                      selftext_tokenize  \\\n",
       "0                                                                                                                                                    ['im', 'worried', 'i', 'permanently', 'fd', 'up', 'my', 'dick', 'how', 'rare', 'is', 'this', 'disease', 'from', 'antidepressants']   \n",
       "1  ['im', 'going', 'to', 'do', 'it', 'to', 'avoid', 'responsibilities', 'and', 'shit', 'i', 'dont', 'fcking', 'care', 'i', 'just', 'want', 'to', 'die', 'dont', 'want', 'to', 'talk', 'about', 'it', 'bye', 'just', 'a', 'week', 'from', 'now', 'or', 'something', 'ill', 'be', 'gone']   \n",
       "\n",
       "                                                                                                                                               selftext_stopremoval  \\\n",
       "0                                                                              ['im', 'worried', 'permanently', 'fd', 'dick', 'rare', 'disease', 'antidepressants']   \n",
       "1  ['im', 'going', 'avoid', 'responsibilities', 'shit', 'dont', 'fcking', 'care', 'want', 'die', 'dont', 'want', 'talk', 'bye', 'week', 'something', 'ill', 'gone']   \n",
       "\n",
       "                               title_tokenize               title_stopremoval  \\\n",
       "0             ['how', 'common', 'is', 'pssd']              ['common', 'pssd']   \n",
       "1  ['im', 'going', 'to', 'end', 'my', 'life']  ['im', 'going', 'end', 'life']   \n",
       "\n",
       "                                                                                              selftext_lem  \\\n",
       "0                                               im worried permanently fd dick rare disease antidepressant   \n",
       "1  im going avoid responsibility shit dont fcking care want die dont want talk bye week something ill gone   \n",
       "\n",
       "           title_lem  \\\n",
       "0        common pssd   \n",
       "1  im going end life   \n",
       "\n",
       "                                                                               selftext_pstem  \\\n",
       "0                                             im worri perman fd dick rare diseas antidepress   \n",
       "1  im go avoid respons shit dont fcking care want die dont want talk bye week someth ill gone   \n",
       "\n",
       "      title_pstem  subreddit_foreveralone  \n",
       "0     common pssd                       0  \n",
       "1  im go end life                       0  "
      ]
     },
     "execution_count": 10,
     "metadata": {},
     "output_type": "execute_result"
    }
   ],
   "source": [
    "# Dummy the subreddit columns\n",
    "depression_lonely_data = pd.get_dummies(depression_lonely_data, columns = [\"subreddit\"], drop_first = True)\n",
    "depression_lonely_data.head(2)"
   ]
  },
  {
   "cell_type": "markdown",
   "metadata": {},
   "source": [
    "## 6 Modeling"
   ]
  },
  {
   "cell_type": "markdown",
   "metadata": {},
   "source": [
    "### 6.1 Model the data "
   ]
  },
  {
   "cell_type": "markdown",
   "metadata": {},
   "source": [
    "We will be performing a train/test split on our data set to have a training set and a holdout set. In total, we will be using a null model as the baseline model and 3 models to fit the dataset and evaluate the models in predicting the y-values using the validation set.\n",
    "\n",
    "The four models are:-\n",
    "* Null Model\n",
    "* Multinomial Naive Bayes\n",
    "* K-nearest neighbours\n",
    "* Logistic Regression\n",
    "\n",
    "Note: A preliminary screening have been performed prior to setting the parameters listed in each model section."
   ]
  },
  {
   "cell_type": "markdown",
   "metadata": {},
   "source": [
    "As this project aims to develop a model that are able to predict the identification of depression and loneliness of the social media forum. As the prediction is either a depression or a loneliness forum, it is a categorical classification in which it is to predict the probability of a categorical dependent variable. Thus, multinomial naive bayes, logistic regression and k-nearest neighbours that are categorical classification models are chosen."
   ]
  },
  {
   "cell_type": "markdown",
   "metadata": {},
   "source": [
    "### 6.2 Set the X and y variable"
   ]
  },
  {
   "cell_type": "code",
   "execution_count": 11,
   "metadata": {},
   "outputs": [],
   "source": [
    "x_data = depression_lonely_data[\"selftext_pstem\"]\n",
    "y_data = depression_lonely_data[\"subreddit_foreveralone\"]"
   ]
  },
  {
   "cell_type": "code",
   "execution_count": 12,
   "metadata": {},
   "outputs": [
    {
     "name": "stdout",
     "output_type": "stream",
     "text": [
      "X_data shape is (9822,)\n",
      "y_data shape is (9822,)\n"
     ]
    }
   ],
   "source": [
    "#Verify the dimensions\n",
    "print(f\"X_data shape is {x_data.shape}\")\n",
    "print(f\"y_data shape is {y_data.shape}\")"
   ]
  },
  {
   "cell_type": "markdown",
   "metadata": {},
   "source": [
    "### 6.3 Split the data into train/test data"
   ]
  },
  {
   "cell_type": "code",
   "execution_count": 13,
   "metadata": {},
   "outputs": [],
   "source": [
    "X_train, X_test, y_train, y_test = train_test_split(x_data, y_data, test_size = 0.25, random_state = 42, stratify = y_data)"
   ]
  },
  {
   "cell_type": "code",
   "execution_count": 14,
   "metadata": {},
   "outputs": [
    {
     "name": "stdout",
     "output_type": "stream",
     "text": [
      "X train:  (7366,)\n",
      "y train:  (7366,)\n",
      "X test:  (2456,)\n",
      "y test:  (2456,)\n"
     ]
    }
   ],
   "source": [
    "#Verify Dimensions\n",
    "print('X train: ', X_train.shape)\n",
    "print('y train: ', y_train.shape)\n",
    "print('X test: ', X_test.shape)\n",
    "print('y test: ', y_test.shape)"
   ]
  },
  {
   "cell_type": "markdown",
   "metadata": {},
   "source": [
    "### 6.4 Null model"
   ]
  },
  {
   "cell_type": "code",
   "execution_count": 15,
   "metadata": {
    "scrolled": true
   },
   "outputs": [
    {
     "data": {
      "text/plain": [
       "0.5115395058376324"
      ]
     },
     "execution_count": 15,
     "metadata": {},
     "output_type": "execute_result"
    }
   ],
   "source": [
    "y_null = y_train.value_counts(normalize = True)\n",
    "y_null.max()"
   ]
  },
  {
   "cell_type": "markdown",
   "metadata": {},
   "source": [
    "### 6.5 Multinomial Naive Bayes"
   ]
  },
  {
   "cell_type": "markdown",
   "metadata": {},
   "source": [
    "We will be using Term Freqeuncy-Inverse Document Frequency (TF-IDF) Vectorizer. \n",
    "This is because as we are comparing two forums, we will want to find words that are common in certain documents but rare in other documents. The ability of TF-IDF to assign a rating importance of a word inside the document will allow us to enhance out the ability to distinguish the two forums."
   ]
  },
  {
   "cell_type": "code",
   "execution_count": 16,
   "metadata": {},
   "outputs": [],
   "source": [
    "# Pipeline for CountVectorizer\n",
    "mnb_pipe = Pipeline(steps = [(\"tvec\", TfidfVectorizer()), (\"mnb\", MultinomialNB())])"
   ]
  },
  {
   "cell_type": "code",
   "execution_count": 17,
   "metadata": {},
   "outputs": [],
   "source": [
    "# Setting the hyperparameters values to gridsearch over\n",
    "\n",
    "mnb_pipe_params = {\n",
    "    \"tvec__max_features\": [4000,5000], \n",
    "    \"tvec__min_df\": [3,5,10],\n",
    "    \"tvec__max_df\": [0.85,0.90],\n",
    "    \"tvec__stop_words\": [None, 'english'],\n",
    "    \"tvec__ngram_range\": [(1,1), (1,2)],\n",
    "    'mnb__alpha': [0.1, 0.25, 0.5, 0.75, 1.0, 1.25],\n",
    "    'mnb__fit_prior': [True, False]\n",
    "}"
   ]
  },
  {
   "cell_type": "code",
   "execution_count": 18,
   "metadata": {},
   "outputs": [],
   "source": [
    "# Instantiate GridSearchCV\n",
    "gs_mnb = GridSearchCV(mnb_pipe, param_grid = mnb_pipe_params,cv = 5, verbose = 1, n_jobs = 4)"
   ]
  },
  {
   "cell_type": "code",
   "execution_count": 19,
   "metadata": {},
   "outputs": [
    {
     "name": "stdout",
     "output_type": "stream",
     "text": [
      "Fitting 5 folds for each of 576 candidates, totalling 2880 fits\n"
     ]
    },
    {
     "name": "stderr",
     "output_type": "stream",
     "text": [
      "[Parallel(n_jobs=4)]: Using backend LokyBackend with 4 concurrent workers.\n",
      "[Parallel(n_jobs=4)]: Done  42 tasks      | elapsed:   15.3s\n",
      "[Parallel(n_jobs=4)]: Done 192 tasks      | elapsed:  1.1min\n",
      "[Parallel(n_jobs=4)]: Done 442 tasks      | elapsed:  2.4min\n",
      "[Parallel(n_jobs=4)]: Done 792 tasks      | elapsed:  4.4min\n",
      "[Parallel(n_jobs=4)]: Done 1242 tasks      | elapsed:  6.8min\n",
      "[Parallel(n_jobs=4)]: Done 1792 tasks      | elapsed:  9.8min\n",
      "[Parallel(n_jobs=4)]: Done 2442 tasks      | elapsed: 13.3min\n",
      "[Parallel(n_jobs=4)]: Done 2880 out of 2880 | elapsed: 15.7min finished\n"
     ]
    },
    {
     "data": {
      "text/plain": [
       "GridSearchCV(cv=5,\n",
       "             estimator=Pipeline(steps=[('tvec', TfidfVectorizer()),\n",
       "                                       ('mnb', MultinomialNB())]),\n",
       "             n_jobs=4,\n",
       "             param_grid={'mnb__alpha': [0.1, 0.25, 0.5, 0.75, 1.0, 1.25],\n",
       "                         'mnb__fit_prior': [True, False],\n",
       "                         'tvec__max_df': [0.85, 0.9],\n",
       "                         'tvec__max_features': [4000, 5000],\n",
       "                         'tvec__min_df': [3, 5, 10],\n",
       "                         'tvec__ngram_range': [(1, 1), (1, 2)],\n",
       "                         'tvec__stop_words': [None, 'english']},\n",
       "             verbose=1)"
      ]
     },
     "execution_count": 19,
     "metadata": {},
     "output_type": "execute_result"
    }
   ],
   "source": [
    "# Fit GridSearch to training data\n",
    "gs_mnb.fit(X_train, y_train)"
   ]
  },
  {
   "cell_type": "code",
   "execution_count": 20,
   "metadata": {},
   "outputs": [
    {
     "data": {
      "text/plain": [
       "0.8430637038838394"
      ]
     },
     "execution_count": 20,
     "metadata": {},
     "output_type": "execute_result"
    }
   ],
   "source": [
    "#The best score\n",
    "gs_mnb.best_score_"
   ]
  },
  {
   "cell_type": "code",
   "execution_count": 21,
   "metadata": {
    "scrolled": true
   },
   "outputs": [
    {
     "data": {
      "text/plain": [
       "{'mnb__alpha': 1.25,\n",
       " 'mnb__fit_prior': False,\n",
       " 'tvec__max_df': 0.85,\n",
       " 'tvec__max_features': 4000,\n",
       " 'tvec__min_df': 5,\n",
       " 'tvec__ngram_range': (1, 2),\n",
       " 'tvec__stop_words': None}"
      ]
     },
     "execution_count": 21,
     "metadata": {},
     "output_type": "execute_result"
    }
   ],
   "source": [
    "# Obtain the best parameters\n",
    "gs_mnb.best_params_"
   ]
  },
  {
   "cell_type": "code",
   "execution_count": 22,
   "metadata": {},
   "outputs": [
    {
     "data": {
      "text/plain": [
       "Pipeline(steps=[('tvec',\n",
       "                 TfidfVectorizer(max_df=0.85, max_features=4000, min_df=5,\n",
       "                                 ngram_range=(1, 2))),\n",
       "                ('mnb', MultinomialNB(alpha=1.25, fit_prior=False))])"
      ]
     },
     "execution_count": 22,
     "metadata": {},
     "output_type": "execute_result"
    }
   ],
   "source": [
    "# Fit with the best parameters\n",
    "mnb_best_model = gs_mnb.best_estimator_.fit(X_train, y_train)\n",
    "mnb_best_model.fit(X_train, y_train)"
   ]
  },
  {
   "cell_type": "code",
   "execution_count": 23,
   "metadata": {},
   "outputs": [
    {
     "data": {
      "text/plain": [
       "0.8700787401574803"
      ]
     },
     "execution_count": 23,
     "metadata": {},
     "output_type": "execute_result"
    }
   ],
   "source": [
    "# Score on the training set\n",
    "mnb_best_model.score(X_train, y_train)"
   ]
  },
  {
   "cell_type": "code",
   "execution_count": 24,
   "metadata": {},
   "outputs": [
    {
     "data": {
      "text/plain": [
       "0.8546416938110749"
      ]
     },
     "execution_count": 24,
     "metadata": {},
     "output_type": "execute_result"
    }
   ],
   "source": [
    "# Score on the testing set (accuracy)\n",
    "mnb_best_model.score(X_test, y_test)"
   ]
  },
  {
   "cell_type": "code",
   "execution_count": 25,
   "metadata": {
    "scrolled": false
   },
   "outputs": [
    {
     "data": {
      "text/html": [
       "<div>\n",
       "<style scoped>\n",
       "    .dataframe tbody tr th:only-of-type {\n",
       "        vertical-align: middle;\n",
       "    }\n",
       "\n",
       "    .dataframe tbody tr th {\n",
       "        vertical-align: top;\n",
       "    }\n",
       "\n",
       "    .dataframe thead th {\n",
       "        text-align: right;\n",
       "    }\n",
       "</style>\n",
       "<table border=\"1\" class=\"dataframe\">\n",
       "  <thead>\n",
       "    <tr style=\"text-align: right;\">\n",
       "      <th></th>\n",
       "      <th>mean_fit_time</th>\n",
       "      <th>std_fit_time</th>\n",
       "      <th>mean_score_time</th>\n",
       "      <th>std_score_time</th>\n",
       "      <th>param_mnb__alpha</th>\n",
       "      <th>param_mnb__fit_prior</th>\n",
       "      <th>param_tvec__max_df</th>\n",
       "      <th>param_tvec__max_features</th>\n",
       "      <th>param_tvec__min_df</th>\n",
       "      <th>param_tvec__ngram_range</th>\n",
       "      <th>param_tvec__stop_words</th>\n",
       "      <th>params</th>\n",
       "      <th>split0_test_score</th>\n",
       "      <th>split1_test_score</th>\n",
       "      <th>split2_test_score</th>\n",
       "      <th>split3_test_score</th>\n",
       "      <th>split4_test_score</th>\n",
       "      <th>mean_test_score</th>\n",
       "      <th>std_test_score</th>\n",
       "      <th>rank_test_score</th>\n",
       "    </tr>\n",
       "  </thead>\n",
       "  <tbody>\n",
       "    <tr>\n",
       "      <th>558</th>\n",
       "      <td>1.903739</td>\n",
       "      <td>0.019720</td>\n",
       "      <td>0.199497</td>\n",
       "      <td>0.007147</td>\n",
       "      <td>1.25</td>\n",
       "      <td>False</td>\n",
       "      <td>0.9</td>\n",
       "      <td>4000</td>\n",
       "      <td>5</td>\n",
       "      <td>(1, 2)</td>\n",
       "      <td>None</td>\n",
       "      <td>{'mnb__alpha': 1.25, 'mnb__fit_prior': False, 'tvec__max_df': 0.9, 'tvec__max_features': 4000, 'tvec__min_df': 5, 'tvec__ngram_range': (1, 2), 'tvec__stop_words': None}</td>\n",
       "      <td>0.835821</td>\n",
       "      <td>0.837067</td>\n",
       "      <td>0.853360</td>\n",
       "      <td>0.845893</td>\n",
       "      <td>0.843177</td>\n",
       "      <td>0.843064</td>\n",
       "      <td>0.006363</td>\n",
       "      <td>1</td>\n",
       "    </tr>\n",
       "    <tr>\n",
       "      <th>534</th>\n",
       "      <td>1.909090</td>\n",
       "      <td>0.013589</td>\n",
       "      <td>0.197000</td>\n",
       "      <td>0.010809</td>\n",
       "      <td>1.25</td>\n",
       "      <td>False</td>\n",
       "      <td>0.85</td>\n",
       "      <td>4000</td>\n",
       "      <td>5</td>\n",
       "      <td>(1, 2)</td>\n",
       "      <td>None</td>\n",
       "      <td>{'mnb__alpha': 1.25, 'mnb__fit_prior': False, 'tvec__max_df': 0.85, 'tvec__max_features': 4000, 'tvec__min_df': 5, 'tvec__ngram_range': (1, 2), 'tvec__stop_words': None}</td>\n",
       "      <td>0.835821</td>\n",
       "      <td>0.837067</td>\n",
       "      <td>0.853360</td>\n",
       "      <td>0.845893</td>\n",
       "      <td>0.843177</td>\n",
       "      <td>0.843064</td>\n",
       "      <td>0.006363</td>\n",
       "      <td>1</td>\n",
       "    </tr>\n",
       "    <tr>\n",
       "      <th>562</th>\n",
       "      <td>1.889802</td>\n",
       "      <td>0.040062</td>\n",
       "      <td>0.203344</td>\n",
       "      <td>0.019693</td>\n",
       "      <td>1.25</td>\n",
       "      <td>False</td>\n",
       "      <td>0.9</td>\n",
       "      <td>4000</td>\n",
       "      <td>10</td>\n",
       "      <td>(1, 2)</td>\n",
       "      <td>None</td>\n",
       "      <td>{'mnb__alpha': 1.25, 'mnb__fit_prior': False, 'tvec__max_df': 0.9, 'tvec__max_features': 4000, 'tvec__min_df': 10, 'tvec__ngram_range': (1, 2), 'tvec__stop_words': None}</td>\n",
       "      <td>0.833786</td>\n",
       "      <td>0.835709</td>\n",
       "      <td>0.855397</td>\n",
       "      <td>0.845893</td>\n",
       "      <td>0.843177</td>\n",
       "      <td>0.842792</td>\n",
       "      <td>0.007745</td>\n",
       "      <td>3</td>\n",
       "    </tr>\n",
       "    <tr>\n",
       "      <th>538</th>\n",
       "      <td>1.902115</td>\n",
       "      <td>0.037611</td>\n",
       "      <td>0.205446</td>\n",
       "      <td>0.008870</td>\n",
       "      <td>1.25</td>\n",
       "      <td>False</td>\n",
       "      <td>0.85</td>\n",
       "      <td>4000</td>\n",
       "      <td>10</td>\n",
       "      <td>(1, 2)</td>\n",
       "      <td>None</td>\n",
       "      <td>{'mnb__alpha': 1.25, 'mnb__fit_prior': False, 'tvec__max_df': 0.85, 'tvec__max_features': 4000, 'tvec__min_df': 10, 'tvec__ngram_range': (1, 2), 'tvec__stop_words': None}</td>\n",
       "      <td>0.833786</td>\n",
       "      <td>0.835709</td>\n",
       "      <td>0.855397</td>\n",
       "      <td>0.845893</td>\n",
       "      <td>0.843177</td>\n",
       "      <td>0.842792</td>\n",
       "      <td>0.007745</td>\n",
       "      <td>3</td>\n",
       "    </tr>\n",
       "    <tr>\n",
       "      <th>554</th>\n",
       "      <td>1.874668</td>\n",
       "      <td>0.066371</td>\n",
       "      <td>0.205445</td>\n",
       "      <td>0.006153</td>\n",
       "      <td>1.25</td>\n",
       "      <td>False</td>\n",
       "      <td>0.9</td>\n",
       "      <td>4000</td>\n",
       "      <td>3</td>\n",
       "      <td>(1, 2)</td>\n",
       "      <td>None</td>\n",
       "      <td>{'mnb__alpha': 1.25, 'mnb__fit_prior': False, 'tvec__max_df': 0.9, 'tvec__max_features': 4000, 'tvec__min_df': 3, 'tvec__ngram_range': (1, 2), 'tvec__stop_words': None}</td>\n",
       "      <td>0.835821</td>\n",
       "      <td>0.835709</td>\n",
       "      <td>0.854039</td>\n",
       "      <td>0.845214</td>\n",
       "      <td>0.843177</td>\n",
       "      <td>0.842792</td>\n",
       "      <td>0.006801</td>\n",
       "      <td>5</td>\n",
       "    </tr>\n",
       "  </tbody>\n",
       "</table>\n",
       "</div>"
      ],
      "text/plain": [
       "     mean_fit_time  std_fit_time  mean_score_time  std_score_time  \\\n",
       "558       1.903739      0.019720         0.199497        0.007147   \n",
       "534       1.909090      0.013589         0.197000        0.010809   \n",
       "562       1.889802      0.040062         0.203344        0.019693   \n",
       "538       1.902115      0.037611         0.205446        0.008870   \n",
       "554       1.874668      0.066371         0.205445        0.006153   \n",
       "\n",
       "    param_mnb__alpha param_mnb__fit_prior param_tvec__max_df  \\\n",
       "558             1.25                False                0.9   \n",
       "534             1.25                False               0.85   \n",
       "562             1.25                False                0.9   \n",
       "538             1.25                False               0.85   \n",
       "554             1.25                False                0.9   \n",
       "\n",
       "    param_tvec__max_features param_tvec__min_df param_tvec__ngram_range  \\\n",
       "558                     4000                  5                  (1, 2)   \n",
       "534                     4000                  5                  (1, 2)   \n",
       "562                     4000                 10                  (1, 2)   \n",
       "538                     4000                 10                  (1, 2)   \n",
       "554                     4000                  3                  (1, 2)   \n",
       "\n",
       "    param_tvec__stop_words  \\\n",
       "558                   None   \n",
       "534                   None   \n",
       "562                   None   \n",
       "538                   None   \n",
       "554                   None   \n",
       "\n",
       "                                                                                                                                                                         params  \\\n",
       "558    {'mnb__alpha': 1.25, 'mnb__fit_prior': False, 'tvec__max_df': 0.9, 'tvec__max_features': 4000, 'tvec__min_df': 5, 'tvec__ngram_range': (1, 2), 'tvec__stop_words': None}   \n",
       "534   {'mnb__alpha': 1.25, 'mnb__fit_prior': False, 'tvec__max_df': 0.85, 'tvec__max_features': 4000, 'tvec__min_df': 5, 'tvec__ngram_range': (1, 2), 'tvec__stop_words': None}   \n",
       "562   {'mnb__alpha': 1.25, 'mnb__fit_prior': False, 'tvec__max_df': 0.9, 'tvec__max_features': 4000, 'tvec__min_df': 10, 'tvec__ngram_range': (1, 2), 'tvec__stop_words': None}   \n",
       "538  {'mnb__alpha': 1.25, 'mnb__fit_prior': False, 'tvec__max_df': 0.85, 'tvec__max_features': 4000, 'tvec__min_df': 10, 'tvec__ngram_range': (1, 2), 'tvec__stop_words': None}   \n",
       "554    {'mnb__alpha': 1.25, 'mnb__fit_prior': False, 'tvec__max_df': 0.9, 'tvec__max_features': 4000, 'tvec__min_df': 3, 'tvec__ngram_range': (1, 2), 'tvec__stop_words': None}   \n",
       "\n",
       "     split0_test_score  split1_test_score  split2_test_score  \\\n",
       "558           0.835821           0.837067           0.853360   \n",
       "534           0.835821           0.837067           0.853360   \n",
       "562           0.833786           0.835709           0.855397   \n",
       "538           0.833786           0.835709           0.855397   \n",
       "554           0.835821           0.835709           0.854039   \n",
       "\n",
       "     split3_test_score  split4_test_score  mean_test_score  std_test_score  \\\n",
       "558           0.845893           0.843177         0.843064        0.006363   \n",
       "534           0.845893           0.843177         0.843064        0.006363   \n",
       "562           0.845893           0.843177         0.842792        0.007745   \n",
       "538           0.845893           0.843177         0.842792        0.007745   \n",
       "554           0.845214           0.843177         0.842792        0.006801   \n",
       "\n",
       "     rank_test_score  \n",
       "558                1  \n",
       "534                1  \n",
       "562                3  \n",
       "538                3  \n",
       "554                5  "
      ]
     },
     "execution_count": 25,
     "metadata": {},
     "output_type": "execute_result"
    }
   ],
   "source": [
    "# Create a dataframe of the fittings performed in GridSearch\n",
    "gs_mnb_df = pd.DataFrame(gs_mnb.cv_results_)\n",
    "gs_mnb_df.sort_values('rank_test_score').head()"
   ]
  },
  {
   "cell_type": "code",
   "execution_count": 26,
   "metadata": {},
   "outputs": [],
   "source": [
    "# Obtain predictions\n",
    "y_pred_mnb = mnb_best_model.predict(X_test)"
   ]
  },
  {
   "cell_type": "code",
   "execution_count": 27,
   "metadata": {},
   "outputs": [],
   "source": [
    "# Confusion Matrix\n",
    "cm_mnb = confusion_matrix (y_test, y_pred_mnb)\n",
    "tn, fp, fn, tp = cm_mnb.ravel()"
   ]
  },
  {
   "cell_type": "code",
   "execution_count": 28,
   "metadata": {},
   "outputs": [
    {
     "data": {
      "text/plain": [
       "<sklearn.metrics._plot.confusion_matrix.ConfusionMatrixDisplay at 0x26375677460>"
      ]
     },
     "execution_count": 28,
     "metadata": {},
     "output_type": "execute_result"
    },
    {
     "data": {
      "image/png": "[encoded data removed]",
      "text/plain": [
       "<Figure size 432x288 with 2 Axes>"
      ]
     },
     "metadata": {
      "image/png": {
       "height": 261,
       "width": 318
      },
      "needs_background": "light"
     },
     "output_type": "display_data"
    }
   ],
   "source": [
    "# Plot the confusion matrix\n",
    "plot_confusion_matrix(gs_mnb, X_test, y_test, cmap = 'Blues', values_format = 'd')"
   ]
  },
  {
   "cell_type": "code",
   "execution_count": 29,
   "metadata": {},
   "outputs": [
    {
     "data": {
      "text/plain": [
       "0.8718152866242038"
      ]
     },
     "execution_count": 29,
     "metadata": {},
     "output_type": "execute_result"
    }
   ],
   "source": [
    "# Calculate specificity\n",
    "mnb_specificity = tn/(tn+fp)\n",
    "mnb_specificity"
   ]
  },
  {
   "cell_type": "code",
   "execution_count": 30,
   "metadata": {},
   "outputs": [
    {
     "data": {
      "text/plain": [
       "0.8366666666666667"
      ]
     },
     "execution_count": 30,
     "metadata": {},
     "output_type": "execute_result"
    }
   ],
   "source": [
    "# Calculate sensitivity\n",
    "mnb_sensitivity = recall_score(y_test, y_pred_mnb)\n",
    "mnb_sensitivity "
   ]
  },
  {
   "cell_type": "code",
   "execution_count": 31,
   "metadata": {},
   "outputs": [
    {
     "data": {
      "text/plain": [
       "0.8618025751072962"
      ]
     },
     "execution_count": 31,
     "metadata": {},
     "output_type": "execute_result"
    }
   ],
   "source": [
    "# Calculate pricision\n",
    "mnb_precision = precision_score(y_test, y_pred_mnb)\n",
    "mnb_precision"
   ]
  },
  {
   "cell_type": "code",
   "execution_count": 32,
   "metadata": {
    "scrolled": false
   },
   "outputs": [
    {
     "data": {
      "image/png": "[encoded data removed]",
      "text/plain": [
       "<Figure size 432x288 with 1 Axes>"
      ]
     },
     "metadata": {
      "image/png": {
       "height": 261,
       "width": 385
      },
      "needs_background": "light"
     },
     "output_type": "display_data"
    }
   ],
   "source": [
    "# Plot the ROC AUC curve\n",
    "plot_roc_curve(gs_mnb, X_test, y_test)\n",
    "plt.plot([0, 1], [0, 1],\n",
    "         label='baseline', linestyle='--')\n",
    "plt.legend();"
   ]
  },
  {
   "cell_type": "code",
   "execution_count": 80,
   "metadata": {},
   "outputs": [
    {
     "data": {
      "text/plain": [
       "0.8490486257928119"
      ]
     },
     "execution_count": 80,
     "metadata": {},
     "output_type": "execute_result"
    }
   ],
   "source": [
    "# Calculate f1 score\n",
    "mnb_f1score = f1_score(y_test, y_pred_mnb)\n",
    "mnb_f1score"
   ]
  },
  {
   "cell_type": "code",
   "execution_count": 35,
   "metadata": {},
   "outputs": [
    {
     "data": {
      "text/plain": [
       "0.9280928211252655"
      ]
     },
     "execution_count": 35,
     "metadata": {},
     "output_type": "execute_result"
    }
   ],
   "source": [
    "# Calculate the ROC AUC score\n",
    "roc_auc_score(y_test, gs_mnb.predict_proba(X_test)[:,1])"
   ]
  },
  {
   "cell_type": "markdown",
   "metadata": {},
   "source": [
    "### 6.6 k-Nearest Neighbours"
   ]
  },
  {
   "cell_type": "code",
   "execution_count": 36,
   "metadata": {},
   "outputs": [],
   "source": [
    "# Pipeline for CountVectorizer\n",
    "knn_pipe = Pipeline(steps = [(\"tvec\", TfidfVectorizer()), (\"knn\", KNeighborsClassifier())])"
   ]
  },
  {
   "cell_type": "code",
   "execution_count": 37,
   "metadata": {},
   "outputs": [],
   "source": [
    "# Setting the hyperparameters values to gridsearch over\n",
    "\n",
    "knn_pipe_params = {\n",
    "    \"tvec__max_features\": [4000,5000], \n",
    "    \"tvec__min_df\": [3,5,10],\n",
    "    \"tvec__max_df\": [0.85,0.90],\n",
    "    \"tvec__stop_words\": [None, 'english'],\n",
    "    \"tvec__ngram_range\": [(1,1), (1,2)],\n",
    "    \"knn__n_neighbors\":[100, 500, 1000],\n",
    "    \"knn__weights\": ['uniform', 'distance'],\n",
    "    \"knn__p\": [1,2]\n",
    "}"
   ]
  },
  {
   "cell_type": "code",
   "execution_count": 38,
   "metadata": {},
   "outputs": [],
   "source": [
    "# Instantiate GridSearchCV\n",
    "gs_knn = GridSearchCV(knn_pipe, param_grid = knn_pipe_params, cv=5, verbose=1, n_jobs = 4)"
   ]
  },
  {
   "cell_type": "code",
   "execution_count": 39,
   "metadata": {
    "scrolled": false
   },
   "outputs": [
    {
     "name": "stdout",
     "output_type": "stream",
     "text": [
      "Fitting 5 folds for each of 576 candidates, totalling 2880 fits\n"
     ]
    },
    {
     "name": "stderr",
     "output_type": "stream",
     "text": [
      "[Parallel(n_jobs=4)]: Using backend LokyBackend with 4 concurrent workers.\n",
      "[Parallel(n_jobs=4)]: Done  42 tasks      | elapsed:   39.3s\n",
      "[Parallel(n_jobs=4)]: Done 192 tasks      | elapsed:  3.0min\n",
      "[Parallel(n_jobs=4)]: Done 442 tasks      | elapsed:  6.8min\n",
      "[Parallel(n_jobs=4)]: Done 792 tasks      | elapsed:  9.8min\n",
      "[Parallel(n_jobs=4)]: Done 1242 tasks      | elapsed: 15.8min\n",
      "[Parallel(n_jobs=4)]: Done 1792 tasks      | elapsed: 21.6min\n",
      "[Parallel(n_jobs=4)]: Done 2442 tasks      | elapsed: 31.4min\n",
      "[Parallel(n_jobs=4)]: Done 2880 out of 2880 | elapsed: 35.6min finished\n"
     ]
    },
    {
     "data": {
      "text/plain": [
       "GridSearchCV(cv=5,\n",
       "             estimator=Pipeline(steps=[('tvec', TfidfVectorizer()),\n",
       "                                       ('knn', KNeighborsClassifier())]),\n",
       "             n_jobs=4,\n",
       "             param_grid={'knn__n_neighbors': [100, 500, 1000], 'knn__p': [1, 2],\n",
       "                         'knn__weights': ['uniform', 'distance'],\n",
       "                         'tvec__max_df': [0.85, 0.9],\n",
       "                         'tvec__max_features': [4000, 5000],\n",
       "                         'tvec__min_df': [3, 5, 10],\n",
       "                         'tvec__ngram_range': [(1, 1), (1, 2)],\n",
       "                         'tvec__stop_words': [None, 'english']},\n",
       "             verbose=1)"
      ]
     },
     "execution_count": 39,
     "metadata": {},
     "output_type": "execute_result"
    }
   ],
   "source": [
    "# Fit GridSearch to training data\n",
    "gs_knn.fit(X_train, y_train)"
   ]
  },
  {
   "cell_type": "code",
   "execution_count": 40,
   "metadata": {},
   "outputs": [
    {
     "data": {
      "text/plain": [
       "0.8182213354630292"
      ]
     },
     "execution_count": 40,
     "metadata": {},
     "output_type": "execute_result"
    }
   ],
   "source": [
    "#The best score\n",
    "gs_knn.best_score_"
   ]
  },
  {
   "cell_type": "code",
   "execution_count": 41,
   "metadata": {
    "scrolled": true
   },
   "outputs": [
    {
     "data": {
      "text/plain": [
       "{'knn__n_neighbors': 100,\n",
       " 'knn__p': 2,\n",
       " 'knn__weights': 'distance',\n",
       " 'tvec__max_df': 0.85,\n",
       " 'tvec__max_features': 5000,\n",
       " 'tvec__min_df': 10,\n",
       " 'tvec__ngram_range': (1, 2),\n",
       " 'tvec__stop_words': 'english'}"
      ]
     },
     "execution_count": 41,
     "metadata": {},
     "output_type": "execute_result"
    }
   ],
   "source": [
    "# Obtain the best parameters\n",
    "gs_knn.best_params_"
   ]
  },
  {
   "cell_type": "code",
   "execution_count": 42,
   "metadata": {},
   "outputs": [
    {
     "data": {
      "text/plain": [
       "Pipeline(steps=[('tvec',\n",
       "                 TfidfVectorizer(max_df=0.85, max_features=5000, min_df=10,\n",
       "                                 ngram_range=(1, 2), stop_words='english')),\n",
       "                ('knn',\n",
       "                 KNeighborsClassifier(n_neighbors=100, weights='distance'))])"
      ]
     },
     "execution_count": 42,
     "metadata": {},
     "output_type": "execute_result"
    }
   ],
   "source": [
    "# Fit with the best parameters\n",
    "knn_best_model = gs_knn.best_estimator_.fit(X_train, y_train)\n",
    "knn_best_model.fit(X_train, y_train)"
   ]
  },
  {
   "cell_type": "code",
   "execution_count": 43,
   "metadata": {},
   "outputs": [
    {
     "data": {
      "text/plain": [
       "0.9993212055389628"
      ]
     },
     "execution_count": 43,
     "metadata": {},
     "output_type": "execute_result"
    }
   ],
   "source": [
    "# Score on the training set\n",
    "knn_best_model.score(X_train, y_train)"
   ]
  },
  {
   "cell_type": "code",
   "execution_count": 44,
   "metadata": {},
   "outputs": [
    {
     "data": {
      "text/plain": [
       "0.8216612377850163"
      ]
     },
     "execution_count": 44,
     "metadata": {},
     "output_type": "execute_result"
    }
   ],
   "source": [
    "# Score on the testing set (accuracy)\n",
    "knn_best_model.score(X_test, y_test)"
   ]
  },
  {
   "cell_type": "code",
   "execution_count": 45,
   "metadata": {},
   "outputs": [
    {
     "data": {
      "text/html": [
       "<div>\n",
       "<style scoped>\n",
       "    .dataframe tbody tr th:only-of-type {\n",
       "        vertical-align: middle;\n",
       "    }\n",
       "\n",
       "    .dataframe tbody tr th {\n",
       "        vertical-align: top;\n",
       "    }\n",
       "\n",
       "    .dataframe thead th {\n",
       "        text-align: right;\n",
       "    }\n",
       "</style>\n",
       "<table border=\"1\" class=\"dataframe\">\n",
       "  <thead>\n",
       "    <tr style=\"text-align: right;\">\n",
       "      <th></th>\n",
       "      <th>mean_fit_time</th>\n",
       "      <th>std_fit_time</th>\n",
       "      <th>mean_score_time</th>\n",
       "      <th>std_score_time</th>\n",
       "      <th>param_knn__n_neighbors</th>\n",
       "      <th>param_knn__p</th>\n",
       "      <th>param_knn__weights</th>\n",
       "      <th>param_tvec__max_df</th>\n",
       "      <th>param_tvec__max_features</th>\n",
       "      <th>param_tvec__min_df</th>\n",
       "      <th>...</th>\n",
       "      <th>param_tvec__stop_words</th>\n",
       "      <th>params</th>\n",
       "      <th>split0_test_score</th>\n",
       "      <th>split1_test_score</th>\n",
       "      <th>split2_test_score</th>\n",
       "      <th>split3_test_score</th>\n",
       "      <th>split4_test_score</th>\n",
       "      <th>mean_test_score</th>\n",
       "      <th>std_test_score</th>\n",
       "      <th>rank_test_score</th>\n",
       "    </tr>\n",
       "  </thead>\n",
       "  <tbody>\n",
       "    <tr>\n",
       "      <th>167</th>\n",
       "      <td>2.071942</td>\n",
       "      <td>0.067932</td>\n",
       "      <td>0.765301</td>\n",
       "      <td>0.045181</td>\n",
       "      <td>100</td>\n",
       "      <td>2</td>\n",
       "      <td>distance</td>\n",
       "      <td>0.85</td>\n",
       "      <td>5000</td>\n",
       "      <td>10</td>\n",
       "      <td>...</td>\n",
       "      <td>english</td>\n",
       "      <td>{'knn__n_neighbors': 100, 'knn__p': 2, 'knn__weights': 'distance', 'tvec__max_df': 0.85, 'tvec__max_features': 5000, 'tvec__min_df': 10, 'tvec__ngram_range': (1, 2), 'tvec__stop_words': 'english'}</td>\n",
       "      <td>0.799864</td>\n",
       "      <td>0.816701</td>\n",
       "      <td>0.832315</td>\n",
       "      <td>0.815343</td>\n",
       "      <td>0.826884</td>\n",
       "      <td>0.818221</td>\n",
       "      <td>0.011147</td>\n",
       "      <td>1</td>\n",
       "    </tr>\n",
       "    <tr>\n",
       "      <th>191</th>\n",
       "      <td>1.993359</td>\n",
       "      <td>0.058284</td>\n",
       "      <td>0.844680</td>\n",
       "      <td>0.126342</td>\n",
       "      <td>100</td>\n",
       "      <td>2</td>\n",
       "      <td>distance</td>\n",
       "      <td>0.9</td>\n",
       "      <td>5000</td>\n",
       "      <td>10</td>\n",
       "      <td>...</td>\n",
       "      <td>english</td>\n",
       "      <td>{'knn__n_neighbors': 100, 'knn__p': 2, 'knn__weights': 'distance', 'tvec__max_df': 0.9, 'tvec__max_features': 5000, 'tvec__min_df': 10, 'tvec__ngram_range': (1, 2), 'tvec__stop_words': 'english'}</td>\n",
       "      <td>0.799864</td>\n",
       "      <td>0.816701</td>\n",
       "      <td>0.832315</td>\n",
       "      <td>0.815343</td>\n",
       "      <td>0.826884</td>\n",
       "      <td>0.818221</td>\n",
       "      <td>0.011147</td>\n",
       "      <td>1</td>\n",
       "    </tr>\n",
       "    <tr>\n",
       "      <th>159</th>\n",
       "      <td>1.789081</td>\n",
       "      <td>0.058863</td>\n",
       "      <td>0.714302</td>\n",
       "      <td>0.063231</td>\n",
       "      <td>100</td>\n",
       "      <td>2</td>\n",
       "      <td>distance</td>\n",
       "      <td>0.85</td>\n",
       "      <td>5000</td>\n",
       "      <td>3</td>\n",
       "      <td>...</td>\n",
       "      <td>english</td>\n",
       "      <td>{'knn__n_neighbors': 100, 'knn__p': 2, 'knn__weights': 'distance', 'tvec__max_df': 0.85, 'tvec__max_features': 5000, 'tvec__min_df': 3, 'tvec__ngram_range': (1, 2), 'tvec__stop_words': 'english'}</td>\n",
       "      <td>0.801221</td>\n",
       "      <td>0.815343</td>\n",
       "      <td>0.833673</td>\n",
       "      <td>0.813306</td>\n",
       "      <td>0.825526</td>\n",
       "      <td>0.817814</td>\n",
       "      <td>0.011070</td>\n",
       "      <td>3</td>\n",
       "    </tr>\n",
       "    <tr>\n",
       "      <th>183</th>\n",
       "      <td>1.882221</td>\n",
       "      <td>0.053771</td>\n",
       "      <td>0.752895</td>\n",
       "      <td>0.047852</td>\n",
       "      <td>100</td>\n",
       "      <td>2</td>\n",
       "      <td>distance</td>\n",
       "      <td>0.9</td>\n",
       "      <td>5000</td>\n",
       "      <td>3</td>\n",
       "      <td>...</td>\n",
       "      <td>english</td>\n",
       "      <td>{'knn__n_neighbors': 100, 'knn__p': 2, 'knn__weights': 'distance', 'tvec__max_df': 0.9, 'tvec__max_features': 5000, 'tvec__min_df': 3, 'tvec__ngram_range': (1, 2), 'tvec__stop_words': 'english'}</td>\n",
       "      <td>0.801221</td>\n",
       "      <td>0.815343</td>\n",
       "      <td>0.833673</td>\n",
       "      <td>0.813306</td>\n",
       "      <td>0.825526</td>\n",
       "      <td>0.817814</td>\n",
       "      <td>0.011070</td>\n",
       "      <td>3</td>\n",
       "    </tr>\n",
       "    <tr>\n",
       "      <th>163</th>\n",
       "      <td>2.389208</td>\n",
       "      <td>0.250271</td>\n",
       "      <td>0.798191</td>\n",
       "      <td>0.028539</td>\n",
       "      <td>100</td>\n",
       "      <td>2</td>\n",
       "      <td>distance</td>\n",
       "      <td>0.85</td>\n",
       "      <td>5000</td>\n",
       "      <td>5</td>\n",
       "      <td>...</td>\n",
       "      <td>english</td>\n",
       "      <td>{'knn__n_neighbors': 100, 'knn__p': 2, 'knn__weights': 'distance', 'tvec__max_df': 0.85, 'tvec__max_features': 5000, 'tvec__min_df': 5, 'tvec__ngram_range': (1, 2), 'tvec__stop_words': 'english'}</td>\n",
       "      <td>0.801900</td>\n",
       "      <td>0.813985</td>\n",
       "      <td>0.833673</td>\n",
       "      <td>0.816022</td>\n",
       "      <td>0.822811</td>\n",
       "      <td>0.817678</td>\n",
       "      <td>0.010464</td>\n",
       "      <td>5</td>\n",
       "    </tr>\n",
       "  </tbody>\n",
       "</table>\n",
       "<p>5 rows × 21 columns</p>\n",
       "</div>"
      ],
      "text/plain": [
       "     mean_fit_time  std_fit_time  mean_score_time  std_score_time  \\\n",
       "167       2.071942      0.067932         0.765301        0.045181   \n",
       "191       1.993359      0.058284         0.844680        0.126342   \n",
       "159       1.789081      0.058863         0.714302        0.063231   \n",
       "183       1.882221      0.053771         0.752895        0.047852   \n",
       "163       2.389208      0.250271         0.798191        0.028539   \n",
       "\n",
       "    param_knn__n_neighbors param_knn__p param_knn__weights param_tvec__max_df  \\\n",
       "167                    100            2           distance               0.85   \n",
       "191                    100            2           distance                0.9   \n",
       "159                    100            2           distance               0.85   \n",
       "183                    100            2           distance                0.9   \n",
       "163                    100            2           distance               0.85   \n",
       "\n",
       "    param_tvec__max_features param_tvec__min_df  ... param_tvec__stop_words  \\\n",
       "167                     5000                 10  ...                english   \n",
       "191                     5000                 10  ...                english   \n",
       "159                     5000                  3  ...                english   \n",
       "183                     5000                  3  ...                english   \n",
       "163                     5000                  5  ...                english   \n",
       "\n",
       "                                                                                                                                                                                                   params  \\\n",
       "167  {'knn__n_neighbors': 100, 'knn__p': 2, 'knn__weights': 'distance', 'tvec__max_df': 0.85, 'tvec__max_features': 5000, 'tvec__min_df': 10, 'tvec__ngram_range': (1, 2), 'tvec__stop_words': 'english'}   \n",
       "191   {'knn__n_neighbors': 100, 'knn__p': 2, 'knn__weights': 'distance', 'tvec__max_df': 0.9, 'tvec__max_features': 5000, 'tvec__min_df': 10, 'tvec__ngram_range': (1, 2), 'tvec__stop_words': 'english'}   \n",
       "159   {'knn__n_neighbors': 100, 'knn__p': 2, 'knn__weights': 'distance', 'tvec__max_df': 0.85, 'tvec__max_features': 5000, 'tvec__min_df': 3, 'tvec__ngram_range': (1, 2), 'tvec__stop_words': 'english'}   \n",
       "183    {'knn__n_neighbors': 100, 'knn__p': 2, 'knn__weights': 'distance', 'tvec__max_df': 0.9, 'tvec__max_features': 5000, 'tvec__min_df': 3, 'tvec__ngram_range': (1, 2), 'tvec__stop_words': 'english'}   \n",
       "163   {'knn__n_neighbors': 100, 'knn__p': 2, 'knn__weights': 'distance', 'tvec__max_df': 0.85, 'tvec__max_features': 5000, 'tvec__min_df': 5, 'tvec__ngram_range': (1, 2), 'tvec__stop_words': 'english'}   \n",
       "\n",
       "    split0_test_score  split1_test_score  split2_test_score  \\\n",
       "167          0.799864           0.816701           0.832315   \n",
       "191          0.799864           0.816701           0.832315   \n",
       "159          0.801221           0.815343           0.833673   \n",
       "183          0.801221           0.815343           0.833673   \n",
       "163          0.801900           0.813985           0.833673   \n",
       "\n",
       "     split3_test_score  split4_test_score  mean_test_score  std_test_score  \\\n",
       "167           0.815343           0.826884         0.818221        0.011147   \n",
       "191           0.815343           0.826884         0.818221        0.011147   \n",
       "159           0.813306           0.825526         0.817814        0.011070   \n",
       "183           0.813306           0.825526         0.817814        0.011070   \n",
       "163           0.816022           0.822811         0.817678        0.010464   \n",
       "\n",
       "     rank_test_score  \n",
       "167                1  \n",
       "191                1  \n",
       "159                3  \n",
       "183                3  \n",
       "163                5  \n",
       "\n",
       "[5 rows x 21 columns]"
      ]
     },
     "execution_count": 45,
     "metadata": {},
     "output_type": "execute_result"
    }
   ],
   "source": [
    "# Create a dataframe of the fittings performed in GridSearch\n",
    "gs_knn_df = pd.DataFrame(gs_knn.cv_results_)\n",
    "gs_knn_df.sort_values('rank_test_score').head()"
   ]
  },
  {
   "cell_type": "code",
   "execution_count": 46,
   "metadata": {},
   "outputs": [],
   "source": [
    "# Obtain predictions\n",
    "y_pred_knn = knn_best_model.predict(X_test)"
   ]
  },
  {
   "cell_type": "code",
   "execution_count": 47,
   "metadata": {},
   "outputs": [],
   "source": [
    "# Confusion Matrix\n",
    "cm_knn = confusion_matrix (y_test, y_pred_knn)\n",
    "tn, fp, fn, tp = cm_knn.ravel()"
   ]
  },
  {
   "cell_type": "code",
   "execution_count": 48,
   "metadata": {},
   "outputs": [
    {
     "data": {
      "text/plain": [
       "<sklearn.metrics._plot.confusion_matrix.ConfusionMatrixDisplay at 0x2637a65fb80>"
      ]
     },
     "execution_count": 48,
     "metadata": {},
     "output_type": "execute_result"
    },
    {
     "data": {
      "image/png": "[encoded data removed]",
      "text/plain": [
       "<Figure size 432x288 with 2 Axes>"
      ]
     },
     "metadata": {
      "image/png": {
       "height": 261,
       "width": 318
      },
      "needs_background": "light"
     },
     "output_type": "display_data"
    }
   ],
   "source": [
    "# Plot the confusion matrix \n",
    "plot_confusion_matrix(gs_knn, X_test, y_test, cmap = 'Blues', values_format = 'd')"
   ]
  },
  {
   "cell_type": "code",
   "execution_count": 49,
   "metadata": {},
   "outputs": [
    {
     "data": {
      "text/plain": [
       "0.8789808917197452"
      ]
     },
     "execution_count": 49,
     "metadata": {},
     "output_type": "execute_result"
    }
   ],
   "source": [
    "# Calculate the specificity\n",
    "knn_specificity = tn/(tn+fp)\n",
    "knn_specificity"
   ]
  },
  {
   "cell_type": "code",
   "execution_count": 50,
   "metadata": {},
   "outputs": [
    {
     "data": {
      "text/plain": [
       "0.7616666666666667"
      ]
     },
     "execution_count": 50,
     "metadata": {},
     "output_type": "execute_result"
    }
   ],
   "source": [
    "# Calculate the sensitivity\n",
    "knn_sensitivity = recall_score(y_test, y_pred_knn)\n",
    "knn_sensitivity "
   ]
  },
  {
   "cell_type": "code",
   "execution_count": 51,
   "metadata": {},
   "outputs": [
    {
     "data": {
      "text/plain": [
       "0.8574108818011257"
      ]
     },
     "execution_count": 51,
     "metadata": {},
     "output_type": "execute_result"
    }
   ],
   "source": [
    "# Calculate the precision\n",
    "knn_precision = precision_score(y_test, y_pred_knn)\n",
    "knn_precision"
   ]
  },
  {
   "cell_type": "code",
   "execution_count": 52,
   "metadata": {
    "scrolled": false
   },
   "outputs": [
    {
     "data": {
      "image/png": "[encoded data removed]",
      "text/plain": [
       "<Figure size 432x288 with 1 Axes>"
      ]
     },
     "metadata": {
      "image/png": {
       "height": 261,
       "width": 385
      },
      "needs_background": "light"
     },
     "output_type": "display_data"
    }
   ],
   "source": [
    "# Plot the ROC AUC curve\n",
    "plot_roc_curve(gs_knn, X_test, y_test)\n",
    "plt.plot([0, 1], [0, 1],\n",
    "         label='baseline', linestyle='--')\n",
    "plt.legend();"
   ]
  },
  {
   "cell_type": "code",
   "execution_count": 79,
   "metadata": {},
   "outputs": [
    {
     "data": {
      "text/plain": [
       "0.8067078552515445"
      ]
     },
     "execution_count": 79,
     "metadata": {},
     "output_type": "execute_result"
    }
   ],
   "source": [
    "# Calculate the f1 score\n",
    "knn_f1score = f1_score(y_test, y_pred_knn)\n",
    "knn_f1score"
   ]
  },
  {
   "cell_type": "code",
   "execution_count": 55,
   "metadata": {
    "scrolled": true
   },
   "outputs": [
    {
     "data": {
      "text/plain": [
       "0.9055457139065818"
      ]
     },
     "execution_count": 55,
     "metadata": {},
     "output_type": "execute_result"
    }
   ],
   "source": [
    "# Calculate the ROC AUC score\n",
    "roc_auc_score(y_test, gs_knn.predict_proba(X_test)[:,1])"
   ]
  },
  {
   "cell_type": "markdown",
   "metadata": {},
   "source": [
    "### 6.7 Logistic Regression"
   ]
  },
  {
   "cell_type": "code",
   "execution_count": 56,
   "metadata": {},
   "outputs": [],
   "source": [
    "# Pipeline for CountVectorizer\n",
    "logreg_pipe = Pipeline(steps = [(\"tvec\", TfidfVectorizer()), (\"logreg\", LogisticRegression())])"
   ]
  },
  {
   "cell_type": "code",
   "execution_count": 57,
   "metadata": {},
   "outputs": [],
   "source": [
    "# Setting the hyperparameters values to gridsearch over\n",
    "\n",
    "gs_pipe_params = {\n",
    "    \"tvec__max_features\": [4000,5000], \n",
    "    \"tvec__min_df\": [3,5,10],\n",
    "    \"tvec__max_df\": [0.85,0.90],\n",
    "    \"tvec__stop_words\": [None, 'english'],\n",
    "    \"tvec__ngram_range\": [(1,1), (1,2)],\n",
    "    \"logreg__solver\":['saga'],\n",
    "    \"logreg__penalty\": ['none','l1','l2'],\n",
    "    \"logreg__random_state\":[42],\n",
    "    \"logreg__C\": [0.5, 0.75, 1, 1.5],\n",
    "    \"logreg__max_iter\": [4000]\n",
    "}"
   ]
  },
  {
   "cell_type": "code",
   "execution_count": 58,
   "metadata": {},
   "outputs": [],
   "source": [
    "# Instantiate GridSearchCV\n",
    "gs_logreg = GridSearchCV(logreg_pipe, param_grid = gs_pipe_params,cv = 5, verbose = 1, n_jobs = 4)"
   ]
  },
  {
   "cell_type": "code",
   "execution_count": 59,
   "metadata": {
    "scrolled": false
   },
   "outputs": [
    {
     "name": "stdout",
     "output_type": "stream",
     "text": [
      "Fitting 5 folds for each of 576 candidates, totalling 2880 fits\n"
     ]
    },
    {
     "name": "stderr",
     "output_type": "stream",
     "text": [
      "[Parallel(n_jobs=4)]: Using backend LokyBackend with 4 concurrent workers.\n",
      "[Parallel(n_jobs=4)]: Done  42 tasks      | elapsed:  2.1min\n",
      "[Parallel(n_jobs=4)]: Done 192 tasks      | elapsed:  9.4min\n",
      "[Parallel(n_jobs=4)]: Done 442 tasks      | elapsed: 12.9min\n",
      "[Parallel(n_jobs=4)]: Done 792 tasks      | elapsed: 18.0min\n",
      "[Parallel(n_jobs=4)]: Done 1242 tasks      | elapsed: 27.7min\n",
      "[Parallel(n_jobs=4)]: Done 1792 tasks      | elapsed: 40.6min\n",
      "[Parallel(n_jobs=4)]: Done 2442 tasks      | elapsed: 54.3min\n",
      "[Parallel(n_jobs=4)]: Done 2880 out of 2880 | elapsed: 58.2min finished\n"
     ]
    },
    {
     "data": {
      "text/plain": [
       "GridSearchCV(cv=5,\n",
       "             estimator=Pipeline(steps=[('tvec', TfidfVectorizer()),\n",
       "                                       ('logreg', LogisticRegression())]),\n",
       "             n_jobs=4,\n",
       "             param_grid={'logreg__C': [0.5, 0.75, 1, 1.5],\n",
       "                         'logreg__max_iter': [4000],\n",
       "                         'logreg__penalty': ['none', 'l1', 'l2'],\n",
       "                         'logreg__random_state': [42],\n",
       "                         'logreg__solver': ['saga'],\n",
       "                         'tvec__max_df': [0.85, 0.9],\n",
       "                         'tvec__max_features': [4000, 5000],\n",
       "                         'tvec__min_df': [3, 5, 10],\n",
       "                         'tvec__ngram_range': [(1, 1), (1, 2)],\n",
       "                         'tvec__stop_words': [None, 'english']},\n",
       "             verbose=1)"
      ]
     },
     "execution_count": 59,
     "metadata": {},
     "output_type": "execute_result"
    }
   ],
   "source": [
    "# Fit GridSearch to training data\n",
    "gs_logreg.fit(X_train, y_train)"
   ]
  },
  {
   "cell_type": "code",
   "execution_count": 60,
   "metadata": {},
   "outputs": [
    {
     "data": {
      "text/plain": [
       "0.8429278344437782"
      ]
     },
     "execution_count": 60,
     "metadata": {},
     "output_type": "execute_result"
    }
   ],
   "source": [
    "#The best score\n",
    "gs_logreg.best_score_"
   ]
  },
  {
   "cell_type": "code",
   "execution_count": 61,
   "metadata": {
    "scrolled": true
   },
   "outputs": [
    {
     "data": {
      "text/plain": [
       "{'logreg__C': 0.75,\n",
       " 'logreg__max_iter': 4000,\n",
       " 'logreg__penalty': 'l2',\n",
       " 'logreg__random_state': 42,\n",
       " 'logreg__solver': 'saga',\n",
       " 'tvec__max_df': 0.85,\n",
       " 'tvec__max_features': 4000,\n",
       " 'tvec__min_df': 10,\n",
       " 'tvec__ngram_range': (1, 2),\n",
       " 'tvec__stop_words': None}"
      ]
     },
     "execution_count": 61,
     "metadata": {},
     "output_type": "execute_result"
    }
   ],
   "source": [
    "# Obtain the best parameters\n",
    "gs_logreg.best_params_"
   ]
  },
  {
   "cell_type": "code",
   "execution_count": 62,
   "metadata": {},
   "outputs": [
    {
     "data": {
      "text/plain": [
       "Pipeline(steps=[('tvec',\n",
       "                 TfidfVectorizer(max_df=0.85, max_features=4000, min_df=10,\n",
       "                                 ngram_range=(1, 2))),\n",
       "                ('logreg',\n",
       "                 LogisticRegression(C=0.75, max_iter=4000, random_state=42,\n",
       "                                    solver='saga'))])"
      ]
     },
     "execution_count": 62,
     "metadata": {},
     "output_type": "execute_result"
    }
   ],
   "source": [
    "# Fit with the best parameters\n",
    "logreg_best_model = gs_logreg.best_estimator_.fit(X_train, y_train)\n",
    "logreg_best_model.fit(X_train, y_train)"
   ]
  },
  {
   "cell_type": "code",
   "execution_count": 63,
   "metadata": {},
   "outputs": [
    {
     "data": {
      "text/plain": [
       "0.8878631550366549"
      ]
     },
     "execution_count": 63,
     "metadata": {},
     "output_type": "execute_result"
    }
   ],
   "source": [
    "# Score on the training set\n",
    "logreg_best_model.score(X_train, y_train)"
   ]
  },
  {
   "cell_type": "code",
   "execution_count": 64,
   "metadata": {},
   "outputs": [
    {
     "data": {
      "text/plain": [
       "0.8460912052117264"
      ]
     },
     "execution_count": 64,
     "metadata": {},
     "output_type": "execute_result"
    }
   ],
   "source": [
    "# Score on the testing set (accuracy)\n",
    "logreg_best_model.score(X_test, y_test)"
   ]
  },
  {
   "cell_type": "code",
   "execution_count": 77,
   "metadata": {
    "scrolled": true
   },
   "outputs": [
    {
     "data": {
      "text/html": [
       "<div>\n",
       "<style scoped>\n",
       "    .dataframe tbody tr th:only-of-type {\n",
       "        vertical-align: middle;\n",
       "    }\n",
       "\n",
       "    .dataframe tbody tr th {\n",
       "        vertical-align: top;\n",
       "    }\n",
       "\n",
       "    .dataframe thead th {\n",
       "        text-align: right;\n",
       "    }\n",
       "</style>\n",
       "<table border=\"1\" class=\"dataframe\">\n",
       "  <thead>\n",
       "    <tr style=\"text-align: right;\">\n",
       "      <th></th>\n",
       "      <th>mean_fit_time</th>\n",
       "      <th>std_fit_time</th>\n",
       "      <th>mean_score_time</th>\n",
       "      <th>std_score_time</th>\n",
       "      <th>param_logreg__C</th>\n",
       "      <th>param_logreg__max_iter</th>\n",
       "      <th>param_logreg__penalty</th>\n",
       "      <th>param_logreg__random_state</th>\n",
       "      <th>param_logreg__solver</th>\n",
       "      <th>param_tvec__max_df</th>\n",
       "      <th>...</th>\n",
       "      <th>param_tvec__stop_words</th>\n",
       "      <th>params</th>\n",
       "      <th>split0_test_score</th>\n",
       "      <th>split1_test_score</th>\n",
       "      <th>split2_test_score</th>\n",
       "      <th>split3_test_score</th>\n",
       "      <th>split4_test_score</th>\n",
       "      <th>mean_test_score</th>\n",
       "      <th>std_test_score</th>\n",
       "      <th>rank_test_score</th>\n",
       "    </tr>\n",
       "  </thead>\n",
       "  <tbody>\n",
       "    <tr>\n",
       "      <th>250</th>\n",
       "      <td>1.957777</td>\n",
       "      <td>0.024430</td>\n",
       "      <td>0.201038</td>\n",
       "      <td>0.009055</td>\n",
       "      <td>0.75</td>\n",
       "      <td>4000</td>\n",
       "      <td>l2</td>\n",
       "      <td>42</td>\n",
       "      <td>saga</td>\n",
       "      <td>0.85</td>\n",
       "      <td>...</td>\n",
       "      <td>None</td>\n",
       "      <td>{'logreg__C': 0.75, 'logreg__max_iter': 4000, 'logreg__penalty': 'l2', 'logreg__random_state': 42, 'logreg__solver': 'saga', 'tvec__max_df': 0.85, 'tvec__max_features': 4000, 'tvec__min_df': 10, 'tvec__ngram_range': (1, 2), 'tvec__stop_words': None}</td>\n",
       "      <td>0.836499</td>\n",
       "      <td>0.832994</td>\n",
       "      <td>0.850645</td>\n",
       "      <td>0.849287</td>\n",
       "      <td>0.845214</td>\n",
       "      <td>0.842928</td>\n",
       "      <td>0.007003</td>\n",
       "      <td>1</td>\n",
       "    </tr>\n",
       "    <tr>\n",
       "      <th>274</th>\n",
       "      <td>2.003163</td>\n",
       "      <td>0.027133</td>\n",
       "      <td>0.205647</td>\n",
       "      <td>0.011656</td>\n",
       "      <td>0.75</td>\n",
       "      <td>4000</td>\n",
       "      <td>l2</td>\n",
       "      <td>42</td>\n",
       "      <td>saga</td>\n",
       "      <td>0.9</td>\n",
       "      <td>...</td>\n",
       "      <td>None</td>\n",
       "      <td>{'logreg__C': 0.75, 'logreg__max_iter': 4000, 'logreg__penalty': 'l2', 'logreg__random_state': 42, 'logreg__solver': 'saga', 'tvec__max_df': 0.9, 'tvec__max_features': 4000, 'tvec__min_df': 10, 'tvec__ngram_range': (1, 2), 'tvec__stop_words': None}</td>\n",
       "      <td>0.836499</td>\n",
       "      <td>0.832994</td>\n",
       "      <td>0.850645</td>\n",
       "      <td>0.849287</td>\n",
       "      <td>0.845214</td>\n",
       "      <td>0.842928</td>\n",
       "      <td>0.007003</td>\n",
       "      <td>1</td>\n",
       "    </tr>\n",
       "    <tr>\n",
       "      <th>398</th>\n",
       "      <td>1.948449</td>\n",
       "      <td>0.059835</td>\n",
       "      <td>0.205445</td>\n",
       "      <td>0.016197</td>\n",
       "      <td>1</td>\n",
       "      <td>4000</td>\n",
       "      <td>l2</td>\n",
       "      <td>42</td>\n",
       "      <td>saga</td>\n",
       "      <td>0.85</td>\n",
       "      <td>...</td>\n",
       "      <td>None</td>\n",
       "      <td>{'logreg__C': 1, 'logreg__max_iter': 4000, 'logreg__penalty': 'l2', 'logreg__random_state': 42, 'logreg__solver': 'saga', 'tvec__max_df': 0.85, 'tvec__max_features': 5000, 'tvec__min_df': 3, 'tvec__ngram_range': (1, 2), 'tvec__stop_words': None}</td>\n",
       "      <td>0.837178</td>\n",
       "      <td>0.830957</td>\n",
       "      <td>0.853360</td>\n",
       "      <td>0.847929</td>\n",
       "      <td>0.845214</td>\n",
       "      <td>0.842928</td>\n",
       "      <td>0.007943</td>\n",
       "      <td>3</td>\n",
       "    </tr>\n",
       "    <tr>\n",
       "      <th>422</th>\n",
       "      <td>1.977007</td>\n",
       "      <td>0.041143</td>\n",
       "      <td>0.206051</td>\n",
       "      <td>0.012000</td>\n",
       "      <td>1</td>\n",
       "      <td>4000</td>\n",
       "      <td>l2</td>\n",
       "      <td>42</td>\n",
       "      <td>saga</td>\n",
       "      <td>0.9</td>\n",
       "      <td>...</td>\n",
       "      <td>None</td>\n",
       "      <td>{'logreg__C': 1, 'logreg__max_iter': 4000, 'logreg__penalty': 'l2', 'logreg__random_state': 42, 'logreg__solver': 'saga', 'tvec__max_df': 0.9, 'tvec__max_features': 5000, 'tvec__min_df': 3, 'tvec__ngram_range': (1, 2), 'tvec__stop_words': None}</td>\n",
       "      <td>0.837178</td>\n",
       "      <td>0.830957</td>\n",
       "      <td>0.853360</td>\n",
       "      <td>0.847929</td>\n",
       "      <td>0.845214</td>\n",
       "      <td>0.842928</td>\n",
       "      <td>0.007943</td>\n",
       "      <td>3</td>\n",
       "    </tr>\n",
       "    <tr>\n",
       "      <th>394</th>\n",
       "      <td>1.976191</td>\n",
       "      <td>0.076225</td>\n",
       "      <td>0.201150</td>\n",
       "      <td>0.014806</td>\n",
       "      <td>1</td>\n",
       "      <td>4000</td>\n",
       "      <td>l2</td>\n",
       "      <td>42</td>\n",
       "      <td>saga</td>\n",
       "      <td>0.85</td>\n",
       "      <td>...</td>\n",
       "      <td>None</td>\n",
       "      <td>{'logreg__C': 1, 'logreg__max_iter': 4000, 'logreg__penalty': 'l2', 'logreg__random_state': 42, 'logreg__solver': 'saga', 'tvec__max_df': 0.85, 'tvec__max_features': 4000, 'tvec__min_df': 10, 'tvec__ngram_range': (1, 2), 'tvec__stop_words': None}</td>\n",
       "      <td>0.838535</td>\n",
       "      <td>0.832994</td>\n",
       "      <td>0.849966</td>\n",
       "      <td>0.849966</td>\n",
       "      <td>0.843177</td>\n",
       "      <td>0.842928</td>\n",
       "      <td>0.006590</td>\n",
       "      <td>5</td>\n",
       "    </tr>\n",
       "  </tbody>\n",
       "</table>\n",
       "<p>5 rows × 23 columns</p>\n",
       "</div>"
      ],
      "text/plain": [
       "     mean_fit_time  std_fit_time  mean_score_time  std_score_time  \\\n",
       "250       1.957777      0.024430         0.201038        0.009055   \n",
       "274       2.003163      0.027133         0.205647        0.011656   \n",
       "398       1.948449      0.059835         0.205445        0.016197   \n",
       "422       1.977007      0.041143         0.206051        0.012000   \n",
       "394       1.976191      0.076225         0.201150        0.014806   \n",
       "\n",
       "    param_logreg__C param_logreg__max_iter param_logreg__penalty  \\\n",
       "250            0.75                   4000                    l2   \n",
       "274            0.75                   4000                    l2   \n",
       "398               1                   4000                    l2   \n",
       "422               1                   4000                    l2   \n",
       "394               1                   4000                    l2   \n",
       "\n",
       "    param_logreg__random_state param_logreg__solver param_tvec__max_df  ...  \\\n",
       "250                         42                 saga               0.85  ...   \n",
       "274                         42                 saga                0.9  ...   \n",
       "398                         42                 saga               0.85  ...   \n",
       "422                         42                 saga                0.9  ...   \n",
       "394                         42                 saga               0.85  ...   \n",
       "\n",
       "    param_tvec__stop_words  \\\n",
       "250                   None   \n",
       "274                   None   \n",
       "398                   None   \n",
       "422                   None   \n",
       "394                   None   \n",
       "\n",
       "                                                                                                                                                                                                                                                        params  \\\n",
       "250  {'logreg__C': 0.75, 'logreg__max_iter': 4000, 'logreg__penalty': 'l2', 'logreg__random_state': 42, 'logreg__solver': 'saga', 'tvec__max_df': 0.85, 'tvec__max_features': 4000, 'tvec__min_df': 10, 'tvec__ngram_range': (1, 2), 'tvec__stop_words': None}   \n",
       "274   {'logreg__C': 0.75, 'logreg__max_iter': 4000, 'logreg__penalty': 'l2', 'logreg__random_state': 42, 'logreg__solver': 'saga', 'tvec__max_df': 0.9, 'tvec__max_features': 4000, 'tvec__min_df': 10, 'tvec__ngram_range': (1, 2), 'tvec__stop_words': None}   \n",
       "398      {'logreg__C': 1, 'logreg__max_iter': 4000, 'logreg__penalty': 'l2', 'logreg__random_state': 42, 'logreg__solver': 'saga', 'tvec__max_df': 0.85, 'tvec__max_features': 5000, 'tvec__min_df': 3, 'tvec__ngram_range': (1, 2), 'tvec__stop_words': None}   \n",
       "422       {'logreg__C': 1, 'logreg__max_iter': 4000, 'logreg__penalty': 'l2', 'logreg__random_state': 42, 'logreg__solver': 'saga', 'tvec__max_df': 0.9, 'tvec__max_features': 5000, 'tvec__min_df': 3, 'tvec__ngram_range': (1, 2), 'tvec__stop_words': None}   \n",
       "394     {'logreg__C': 1, 'logreg__max_iter': 4000, 'logreg__penalty': 'l2', 'logreg__random_state': 42, 'logreg__solver': 'saga', 'tvec__max_df': 0.85, 'tvec__max_features': 4000, 'tvec__min_df': 10, 'tvec__ngram_range': (1, 2), 'tvec__stop_words': None}   \n",
       "\n",
       "    split0_test_score split1_test_score split2_test_score  split3_test_score  \\\n",
       "250          0.836499          0.832994          0.850645           0.849287   \n",
       "274          0.836499          0.832994          0.850645           0.849287   \n",
       "398          0.837178          0.830957          0.853360           0.847929   \n",
       "422          0.837178          0.830957          0.853360           0.847929   \n",
       "394          0.838535          0.832994          0.849966           0.849966   \n",
       "\n",
       "     split4_test_score  mean_test_score  std_test_score  rank_test_score  \n",
       "250           0.845214         0.842928        0.007003                1  \n",
       "274           0.845214         0.842928        0.007003                1  \n",
       "398           0.845214         0.842928        0.007943                3  \n",
       "422           0.845214         0.842928        0.007943                3  \n",
       "394           0.843177         0.842928        0.006590                5  \n",
       "\n",
       "[5 rows x 23 columns]"
      ]
     },
     "execution_count": 77,
     "metadata": {},
     "output_type": "execute_result"
    }
   ],
   "source": [
    "# Create a dataframe of the fittings performed in GridSearch\n",
    "gs_logreg_df = pd.DataFrame(gs_logreg.cv_results_)\n",
    "gs_logreg_df.sort_values('rank_test_score').head()"
   ]
  },
  {
   "cell_type": "code",
   "execution_count": 66,
   "metadata": {},
   "outputs": [],
   "source": [
    "# Obtain predictions\n",
    "y_pred_logreg = logreg_best_model.predict(X_test)"
   ]
  },
  {
   "cell_type": "code",
   "execution_count": 67,
   "metadata": {},
   "outputs": [],
   "source": [
    "# Confusion Matrix\n",
    "cm_logreg = confusion_matrix (y_test, y_pred_logreg)\n",
    "tn, fp, fn, tp = cm_logreg.ravel()"
   ]
  },
  {
   "cell_type": "code",
   "execution_count": 68,
   "metadata": {},
   "outputs": [
    {
     "data": {
      "text/plain": [
       "<sklearn.metrics._plot.confusion_matrix.ConfusionMatrixDisplay at 0x2637ee4e490>"
      ]
     },
     "execution_count": 68,
     "metadata": {},
     "output_type": "execute_result"
    },
    {
     "data": {
      "image/png": "[encoded data removed]",
      "text/plain": [
       "<Figure size 432x288 with 2 Axes>"
      ]
     },
     "metadata": {
      "image/png": {
       "height": 261,
       "width": 318
      },
      "needs_background": "light"
     },
     "output_type": "display_data"
    }
   ],
   "source": [
    "# Plot the consfusion matrix\n",
    "plot_confusion_matrix(gs_logreg, X_test, y_test, cmap = 'Blues', values_format = 'd')"
   ]
  },
  {
   "cell_type": "code",
   "execution_count": 69,
   "metadata": {},
   "outputs": [
    {
     "data": {
      "text/plain": [
       "0.8590764331210191"
      ]
     },
     "execution_count": 69,
     "metadata": {},
     "output_type": "execute_result"
    }
   ],
   "source": [
    "# Calculate the specificity\n",
    "logreg_specificity = tn/(tn+fp)\n",
    "logreg_specificity"
   ]
  },
  {
   "cell_type": "code",
   "execution_count": 70,
   "metadata": {},
   "outputs": [
    {
     "data": {
      "text/plain": [
       "0.8325"
      ]
     },
     "execution_count": 70,
     "metadata": {},
     "output_type": "execute_result"
    }
   ],
   "source": [
    "# Calculate the sensitivity\n",
    "logreg_sensitivity = recall_score(y_test, y_pred_logreg)\n",
    "logreg_sensitivity "
   ]
  },
  {
   "cell_type": "code",
   "execution_count": 71,
   "metadata": {},
   "outputs": [
    {
     "data": {
      "text/plain": [
       "0.8494897959183674"
      ]
     },
     "execution_count": 71,
     "metadata": {},
     "output_type": "execute_result"
    }
   ],
   "source": [
    "# Calculate the precision\n",
    "logreg_precision = precision_score(y_test, y_pred_logreg)\n",
    "logreg_precision"
   ]
  },
  {
   "cell_type": "code",
   "execution_count": 72,
   "metadata": {
    "scrolled": false
   },
   "outputs": [
    {
     "data": {
      "image/png": "[encoded data removed]",
      "text/plain": [
       "<Figure size 432x288 with 1 Axes>"
      ]
     },
     "metadata": {
      "image/png": {
       "height": 261,
       "width": 385
      },
      "needs_background": "light"
     },
     "output_type": "display_data"
    }
   ],
   "source": [
    "# Plot the ROC curve\n",
    "plot_roc_curve(gs_logreg, X_test, y_test)\n",
    "plt.plot([0, 1], [0, 1],\n",
    "         label='baseline', linestyle='--')\n",
    "plt.legend();"
   ]
  },
  {
   "cell_type": "code",
   "execution_count": 78,
   "metadata": {},
   "outputs": [
    {
     "data": {
      "text/plain": [
       "0.8409090909090909"
      ]
     },
     "execution_count": 78,
     "metadata": {},
     "output_type": "execute_result"
    }
   ],
   "source": [
    "# Calculate the f1 score\n",
    "logreg_f1score = f1_score(y_test, y_pred_logreg)\n",
    "logreg_f1score"
   ]
  },
  {
   "cell_type": "code",
   "execution_count": 75,
   "metadata": {
    "scrolled": false
   },
   "outputs": [
    {
     "data": {
      "text/plain": [
       "0.924490114118896"
      ]
     },
     "execution_count": 75,
     "metadata": {},
     "output_type": "execute_result"
    }
   ],
   "source": [
    "# Calculate the ROC AUC score\n",
    "roc_auc_score(y_test, gs_logreg.predict_proba(X_test)[:,1])"
   ]
  },
  {
   "cell_type": "markdown",
   "metadata": {},
   "source": [
    "## 7. Choice of Model and Model Evaluation"
   ]
  },
  {
   "cell_type": "markdown",
   "metadata": {},
   "source": [
    "**Summary Table 1: Model Evaluation**\n",
    "\n",
    "|        Model        |   Best Model parameters   | Transformer |   Best Transformer parameters| Model Best Score   | Training Score (Accuracy) | Testing Score (Accuracy) | Sensitivity | Specificity |\n",
    "|:-------------------:|:-------------------:|:-------:|:----------:|:-----------------:|:----------------:|:-----------------:|:-----------------:|:-----------------:|\n",
    "|        Null         |  NA |    NA   |     NA     |       0.5115      |      NA      |NA|NA|NA\n",
    "|         Multinomial Naive Bayes        | alpha: 1.25<br />fit_prior: False |TfidfVectorizer| max_df: 0.85<br />max_features: 4000<br />min_df: 5<br />ngram_range: (1, 2)<br />stop_words: None|0.8431 |      0.8701      |      0.8546      |0.8367|0.8718|\n",
    "|         k-Nearest-Neighbours        |n_neighbors: 100<br />p: 2<br />weights: distance| TfidfVectorizer|max_df: 0.85<br />max_features: 5000<br />min_df: 10<br />ngram_range: (1, 2)<br />stop_words: english |0.8182   | 0.9993    |    0.8217    |0.7617|0.8790|\n",
    "|         Logistic regression       | C: 0.75<br />max_iter: 4000<br />penalty: l2<br />random_state: 42<br />solver: saga|TfidfVectorizer|max_df: 0.85<br />max_features: 4000<br />min_df: 10<br />ngram_range: (1, 2)<br />stop_words: None|0.8429  |     0.8879      |      0.8461     |0.8325|0.8591|"
   ]
  },
  {
   "cell_type": "markdown",
   "metadata": {},
   "source": [
    "**Summary Table 2: Model Evaluation**\n",
    "\n",
    "| Model|       Training Score (Accuracy)       |   Testing Score (Accuracy)   | Sensitivity |  Specificity | Misclassification rate   | Precision | F1 score | ROC AUC score |\n",
    "|:-------------------:|:-------------------:|:-------:|:----------:|:-----------------:|:----------------:|:-----------------:|:-----------------:|:-----------------:|\n",
    "| Null |  0.5115 |    0.5115   |     NA     |       NA      |      0.4885    |NA|NA|NA\n",
    "|Multinomial Naive Bayes| 0.8701|0.8546 | 0.8367 |0.8718 | 0.1454    |0.8618|0.8490 |0.9281\n",
    "| k-Nearest-Neighbours|0.9993 |0.8217  | 0.7617   |    0.8790    | 0.1783 |0.8574 |0.8067|0.9055\n",
    "|Logistic regression| 0.8879 | 0.8461        | 0.8325  | 0.8591       |0.1539    |0.8495|0.8409|0.9245"
   ]
  },
  {
   "cell_type": "markdown",
   "metadata": {},
   "source": [
    "This project aims to develop a model that are able to predict the identification of depression and loneliness of the social media forum, which is a categorical classification.\n",
    "\n",
    "The evaluation for model performance.\n",
    "\n",
    "**1. Null Model** \n",
    "\n",
    "Null model is a model that does not have any predictor values and uses the mean of the target Y as a prediction. This is also define as a baseline accuracy and the performance of the model will be compared with this baseline accuracy to understand if the model is performing better than null model and whether the trained model has any predictor values.\n",
    "* In our modeling, all the models has a score of more than 0.8 in comparison with the null model which is 0.5115, thus, all models here have some predictors value.\n",
    "\n",
    "**2. Multinomial Naive Bayes**\n",
    "\n",
    "Naive Bayes makes the assumption that all features are independent of one another. Although text data is not independent, however, naive bayes serves as a fast modeling algorithm that are useful with lots of features or data, which happens with text analysis, which the words forms a feature. In addition, multinomial naive bayes serves as a excellant classifier. And multinomial naive bayes are seleted as X variables used in this project consists of positive variables. \n",
    "* In our modeling, the multinomial naive bayes has a training and testing score of 0.87 and 0.85 respectively. This indicates that 85% of the variability of the words can be explained by the x predictors in our model. While it is observed that the train score is slightly higher than the test score. This might indicate that there is slight overfitting. Nevertheless, this model fits our study criteria with an accuracy of more than 80%. \n",
    "\n",
    "**3. K-nearest neighbours**\n",
    "\n",
    "k_nearest neightbors is useful when they are potential non-linear boundaries separating classes of values of iterest. It will examine the points around (its neighbors) to determine the value of the point of interest by calculating the distance between neighbors. The point of interest will get the majority of the average value. The main advantage of using knn is that it can be used for multiclass classification. As knn measures by the distance between the neighbors, they are highly sensitive to the magnitude of the features and requires scaling the data. In addition, the predictor variables will have to be numeric variables only and knn does not have feature importance.\n",
    "* In our modeling, the k-nearest-neighbours have a training and testing score of 0.9993 and 0.8217 respectively. This indicate that 82% of the variability can be explained by the x predictors in our model. It can be seen that there is an overfitting of the model due to a very high training score in comparison with testing score. This might indicate a very high variance. In order to combat the overfitting, the n_neighbors, which defines the number of neighbours can be increase to decrease the variance. However, with the range covered, knn favours the lowest which is 100 n_neighbours. This observation was also seen when a preliminary screening in which the n_neighbours that covers a wider range while other parameters remains fixed were performed prior to running the final gridsearch above. Similar results was yield whereby the lowest range was preferred. This may indicate that the choice of trained model may not be suitable or there is a very high complexity of data making it hard to predict. Hence, we can either reduce the number of predictors by further removing stop words or unnecessary filler words or choose another model. Nevertheless, this model fits our study criteria with an accuracy of more than 80%. \n",
    "\n",
    "**4. Logistic Regression**\n",
    "\n",
    "Logistic regression is the classification to find the probability of the event success and its failure. It categorizes the data into discrete classes by studying the relationship with labelled data, which are linear relationship and forms a sigmoid function with an output of probability.\n",
    "It can be used for multinomial regression and a probabilitics view of class predictions whereby it provides a measures the importance (coefficient size) with its direction of association. However, logistic regression may be prone to overfitting if the number of features is more than the number of observations, which can be a case in text analysis, thus requiring regularization to avoid over-fitting in these scenarios. In addition, it requires average or no multicollinearity between independent variables.  \n",
    "* In our modeling, the logistic regression have a training and testing score of 0.8879 and 0.8461 respectively. This indicates that 88% of the variability of the words can be explained by the x predictors in our model. While it is observed that the train score is higher than the test score. This might indicate that there is slight overfitting although ridge regularization was used. Nevertheless, this model fits our study criteria with an accuracy of more than 80%. "
   ]
  },
  {
   "cell_type": "markdown",
   "metadata": {},
   "source": [
    "**Model Evaluation**\n",
    "\n",
    "With the evaluation of the scoring of each model, all three models have a high accuracy with more than 80%. For all three models, they have a lesser misclassification rate than the null model of about 30%. Out of the three models, Multinomial Naive Bayes have the lowest misclassification rate, which signifies the lowest inaccurate predictions of the observations. Apart from accuracy,we would like to understand more about the how often it predicts correctly (sensitivity) and wrongly (specificity). From our findings, both logistic regression and Multinomial Naive Bayes model has similar sensitivity with Multinomial Naive Bayes having the highest sensitivity and specificity of 0.8367 and 0.8718 respectively compared to the other models. \n",
    "\n",
    "To further evaluate accuracy of correctly identifying the forum by the model, we would like to explore the precision score. To understand how many of our model's prediction of positive is true, we look into precision in which all three models have relatively good precision with Multinomial Naive Bayes have the highest score. With understanding precision and recall (sensitivity) is a weighted average, we will look into the F1 score, whereby Logistic Regression and Multinomial Naive Bayes have similar F1 score with Multinomial Naive Bayes having the highest F1 score. \n",
    "\n",
    "Recognizing that sensitivity and specificity is a tradeoff, a better evaluation of the model is by looking at the receiver operating characteristics (ROC) curve in which it measures the overlap exists between the distributions. A good ROC score is defined in which a score of above 0.5, with 0.5 being perfectly overlapped, to 1.0 (perfectly separated). In our results, all three models have a high ROC area under the curve (AUC) score with more than 0.9 with Multinomial Naive Bayes having the highest ROC AUC curve of 0.9281, which indicates it has the highest performance out of the three models.\n",
    "\n",
    "With these findings, Multinomial Naive Bayes fits our criteria the best, as it has the highest score with an accuracy of more than 80%, the highest sensitivity, specificty, precision, f1score and ROCC AUC score compared to the other models. Thus, this selected model will help to predict the people having depression or loneliness through other communication means including chatbox and the helpline and thus the mental health institution is able to provide a better assistance and reachout to the person in need."
   ]
  },
  {
   "cell_type": "markdown",
   "metadata": {},
   "source": [
    "## 8. Conclusions and Recommendations"
   ]
  },
  {
   "cell_type": "markdown",
   "metadata": {},
   "source": [
    "## Conclusions "
   ]
  },
  {
   "cell_type": "markdown",
   "metadata": {},
   "source": [
    "Depression and loneliness are often associated together due to their high similarity in symptoms despite its differences in which one being a mental health condition while the later being an emotional state. Thus, in our project, we aim to distinguish the differences between depression and loneliness behavoural via the identification of word expression in social media forum. In addition, our goal is to build models to predict this identification and select a model with the highest accuracy and having more than 80% accuracy that takes into the account of the similarity between depression and loneliness. \n",
    "\n",
    "In conclusion, we have collected about 5000 posts from each forum. We then performed data cleaning of the posts and title of the datasets followed by exploring and visualizing the data using exploratory data analysis. We then processed the text and title, and we subjected these into countvectorizer to transform the text and title into word counts which we then can analyze the top common words in each forum. From our findings, we have discovered words of the top 30 frequeny of the most common words that are specific to the forum. These word allows us to distinguish the differences between loneliness and depression in social media forum and will provide an insight to facilitate the mental health institution in the assessment or identification process of people experiencing loneliness and depression. \n",
    "\n",
    "Using the processed text, we built four models: null model, Multinomial Naive Bayes, k-Nearest Neighbours and Logistic Regression. All three models \n",
    "have a score of 0.8, which is higher than the null model, 0.5. Both Logistic Regression and Multinomial Naive Bayes have similar training and testing score while Multinomial Naive Bayes score better then the other models in other parameters including sensitivity, specificty, precision, F1 score and ROCC AUC score. Using this selected model, we are able to facilitate the identification of people potentially having depression or loneliness through communication means including chatbox and the helpline and thus the mental health institution is able to provide a better assistance and reachout to the person in need."
   ]
  },
  {
   "cell_type": "markdown",
   "metadata": {},
   "source": [
    "## Recommendations"
   ]
  },
  {
   "cell_type": "markdown",
   "metadata": {},
   "source": [
    "Overall, the top 10 differences between depression and loneliness behavioural through the word expression is alone, girl, date, relationship, guy, depress, help, live, thought and need. These words found will help to distinguish the differences between loneliness and depression and will provide an insight to facilitate the mental health institution in the assessment or identification process of people experiencing loneliness and depression. \n",
    "\n",
    "Of the models built, Multinomial Naive Bayes model are able to achieve an accuracy rate of more than 80% and this model score better then the other models in other parameters including sensitivity, specificty, precision, F1 score and ROCC AUC score. Using this selected model, we are able to facilitate the identification of people potentially having depression or loneliness through communication means including chatbox and the helpline and thus the mental health institution is able to provide a better assistance and reachout to the person in need."
   ]
  },
  {
   "cell_type": "markdown",
   "metadata": {},
   "source": [
    "## Future Development"
   ]
  },
  {
   "cell_type": "markdown",
   "metadata": {},
   "source": [
    "With these findings, the project can be further explored to classify the identification of people who are undergoing different severity of depression and loneliness such as from mild, moderate to severe condition.\n",
    "This can be done using the data collection which we have with severe condition of depression [(r/depressed)](https://www.reddit.com/r/depressed/) and loneliness [(r/lonely)](https://www.reddit.com/r/lonely/). As suicidal and depression are associated, the project can also be explored in classifiying the identification of people who are depressed with people who are having severe depression leading to suicidal thoughts [(r/SuicideWatch)](https://www.reddit.com/r/SuicideWatch/). The identification of these three group pairs will help to provide insights to facilitate the mental health institution in the assessment of identification process of people experiencing these conditions and to offer reachout to the person in need on a timely manner."
   ]
  }
 ],
 "metadata": {
  "kernelspec": {
   "display_name": "Python 3",
   "language": "python",
   "name": "python3"
  },
  "language_info": {
   "codemirror_mode": {
    "name": "ipython",
    "version": 3
   },
   "file_extension": ".py",
   "mimetype": "text/x-python",
   "name": "python",
   "nbconvert_exporter": "python",
   "pygments_lexer": "ipython3",
   "version": "3.8.5"
  }
 },
 "nbformat": 4,
 "nbformat_minor": 4
}
